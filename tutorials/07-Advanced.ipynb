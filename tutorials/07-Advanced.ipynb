{
 "cells": [
  {
   "cell_type": "markdown",
   "id": "56de1765-110f-431c-8ef0-f0f003ec094a",
   "metadata": {},
   "source": [
    "# Advanced"
   ]
  },
  {
   "cell_type": "markdown",
   "id": "e2ac5005-b0b3-4e54-97a3-042558aa0f7f",
   "metadata": {},
   "source": [
    "This tutorial will discuss some more advanced details of `ebcc`."
   ]
  },
  {
   "cell_type": "code",
   "execution_count": 1,
   "id": "c9b18764-a42e-47e0-9af3-61bf0a980f1a",
   "metadata": {},
   "outputs": [
    {
     "data": {
      "text/plain": [
       "-108.93589222112035"
      ]
     },
     "execution_count": 1,
     "metadata": {},
     "output_type": "execute_result"
    }
   ],
   "source": [
    "import numpy as np\n",
    "from pyscf import gto, scf\n",
    "\n",
    "mol = gto.M(\n",
    "    atom=\"N 0 0 0; N 0 0 1\",\n",
    "    basis=\"aug-cc-pvdz\",\n",
    "    verbose=0,\n",
    ")\n",
    "\n",
    "mf = scf.RHF(mol)\n",
    "mf.kernel()"
   ]
  },
  {
   "cell_type": "code",
   "execution_count": 2,
   "id": "6e81551f-f032-4f8e-950e-457ebfd36cd3",
   "metadata": {},
   "outputs": [],
   "source": [
    "import sys\n",
    "from logging import StreamHandler\n",
    "from ebcc.core.logging import Logger\n",
    "\n",
    "log = Logger(\"main\")\n",
    "log.setLevel(20)\n",
    "log.addHandler(StreamHandler(sys.stdout))"
   ]
  },
  {
   "cell_type": "markdown",
   "id": "afcde74d-82b7-4ec2-8093-3461134e59f3",
   "metadata": {},
   "source": [
    "Most classes (damping, Hamiltonian elements, etc.) that the CC solver uses are stored as attributes of the CC solver, and can be customised either by assignment for those used post-initialisation time, or by subclasses for those used during initialisation.\n",
    "\n",
    "For example, the default damping class is `ebcc.core.damping.DIIS`, which includes a linear damping factor to allow both DIIS and linear damping. This can be replaced with either `ebcc.core.LinearDamping` for purely linear damping, or `ebcc.core.NoDamping` for none. Additionally, one can subclass `ebcc.core.BaseDamping` to define a custom damping procedure."
   ]
  },
  {
   "cell_type": "code",
   "execution_count": 3,
   "id": "a2d5340c-118f-4c92-b10a-b105395fd108",
   "metadata": {},
   "outputs": [
    {
     "name": "stdout",
     "output_type": "stream",
     "text": [
      "\u001b[1m        _\n",
      "       | |\n",
      "   ___ | |__    ___   ___\n",
      "  / _ \\| '_ \\  / __| / __|\n",
      " |  __/| |_) || (__ | (__\n",
      "  \\___||_.__/  \\___| \\___|\n",
      "                     \u001b[1m1.5.0\u001b[m\u001b[m\n",
      "numpy:\n",
      " > Version:  1.26.1\n",
      " > Git hash: N/A\n",
      "pyscf:\n",
      " > Version:  2.6.2\n",
      " > Git hash: N/A\n",
      "ebcc:\n",
      " > Version:  1.5.0\n",
      " > Git hash: N/A\n",
      "OMP_NUM_THREADS = 1\n",
      "\n",
      "\u001b[1m\u001b[4mRCCSD\u001b[m\n",
      "\u001b[1mOptions\u001b[m:\n",
      " > e_tol:  \u001b[33m1e-08\u001b[m\n",
      " > t_tol:  \u001b[33m1e-08\u001b[m\n",
      " > max_iter:  \u001b[33m200\u001b[m\n",
      " > diis_space:  \u001b[33m9\u001b[m\n",
      " > diis_min_space:  \u001b[33m1\u001b[m\n",
      " > damping:  \u001b[33m0.5\u001b[m\n",
      "\u001b[1mAnsatz\u001b[m: \u001b[35mCCSD\u001b[m\n",
      "\u001b[1mSpace\u001b[m: \u001b[35m(7o, 39v)\u001b[m\n",
      "Solving for excitation amplitudes.\n",
      "\u001b[1mIter   Energy (corr.)      Energy (tot.)     Δ(Energy)      Δ(Ampl.)\u001b[m\n",
      "   0    -0.2946967101    -109.2305889312\n",
      "   1    -0.2929471958    -109.2288394169 \u001b[31m    1.750e-03\u001b[m \u001b[31m    1.223e-02\u001b[m\n",
      "   2    -0.2970752405    -109.2329674616 \u001b[31m    4.128e-03\u001b[m \u001b[31m    1.950e-03\u001b[m\n",
      "   3    -0.3013688523    -109.2372610735 \u001b[31m    4.294e-03\u001b[m \u001b[31m    2.265e-03\u001b[m\n",
      "   4    -0.3017833195    -109.2376755406 \u001b[31m    4.145e-04\u001b[m \u001b[31m    1.039e-03\u001b[m\n",
      "   5    -0.3022113880    -109.2381036092 \u001b[31m    4.281e-04\u001b[m \u001b[31m    7.884e-04\u001b[m\n",
      "   6    -0.3025132218    -109.2384054430 \u001b[31m    3.018e-04\u001b[m \u001b[31m    4.098e-04\u001b[m\n",
      "   7    -0.3026845897    -109.2385768108 \u001b[31m    1.714e-04\u001b[m \u001b[31m    3.043e-04\u001b[m\n",
      "   8    -0.3027685243    -109.2386607454 \u001b[31m    8.393e-05\u001b[m \u001b[31m    1.959e-04\u001b[m\n",
      "   9    -0.3028246174    -109.2387168385 \u001b[31m    5.609e-05\u001b[m \u001b[31m    1.303e-04\u001b[m\n",
      "  10    -0.3028589848    -109.2387512059 \u001b[31m    3.437e-05\u001b[m \u001b[31m    8.399e-05\u001b[m\n",
      "  11    -0.3028802623    -109.2387724834 \u001b[31m    2.128e-05\u001b[m \u001b[31m    5.620e-05\u001b[m\n",
      "  12    -0.3028935144    -109.2387857355 \u001b[31m    1.325e-05\u001b[m \u001b[31m    3.677e-05\u001b[m\n",
      "  13    -0.3029020188    -109.2387942399 \u001b[31m    8.504e-06\u001b[m \u001b[31m    2.424e-05\u001b[m\n",
      "  14    -0.3029074370    -109.2387996581 \u001b[31m    5.418e-06\u001b[m \u001b[31m    1.593e-05\u001b[m\n",
      "  15    -0.3029109191    -109.2388031402 \u001b[31m    3.482e-06\u001b[m \u001b[31m    1.050e-05\u001b[m\n",
      "  16    -0.3029131640    -109.2388053851 \u001b[31m    2.245e-06\u001b[m \u001b[31m    6.905e-06\u001b[m\n",
      "  17    -0.3029146183    -109.2388068394 \u001b[31m    1.454e-06\u001b[m \u001b[31m    4.546e-06\u001b[m\n",
      "  18    -0.3029155614    -109.2388077825 \u001b[31m    9.432e-07\u001b[m \u001b[31m    2.990e-06\u001b[m\n",
      "  19    -0.3029161748    -109.2388083959 \u001b[31m    6.134e-07\u001b[m \u001b[31m    1.968e-06\u001b[m\n",
      "  20    -0.3029165742    -109.2388087954 \u001b[31m    3.995e-07\u001b[m \u001b[31m    1.294e-06\u001b[m\n",
      "  21    -0.3029168348    -109.2388090559 \u001b[31m    2.605e-07\u001b[m \u001b[31m    8.513e-07\u001b[m\n",
      "  22    -0.3029170049    -109.2388092260 \u001b[31m    1.701e-07\u001b[m \u001b[31m    5.599e-07\u001b[m\n",
      "  23    -0.3029171160    -109.2388093371 \u001b[31m    1.112e-07\u001b[m \u001b[31m    3.682e-07\u001b[m\n",
      "  24    -0.3029171887    -109.2388094098 \u001b[31m    7.269e-08\u001b[m \u001b[31m    2.421e-07\u001b[m\n",
      "  25    -0.3029172363    -109.2388094574 \u001b[31m    4.757e-08\u001b[m \u001b[31m    1.592e-07\u001b[m\n",
      "  26    -0.3029172674    -109.2388094886 \u001b[31m    3.115e-08\u001b[m \u001b[31m    1.047e-07\u001b[m\n",
      "  27    -0.3029172878    -109.2388095090 \u001b[31m    2.040e-08\u001b[m \u001b[31m    6.884e-08\u001b[m\n",
      "  28    -0.3029173012    -109.2388095223 \u001b[31m    1.337e-08\u001b[m \u001b[31m    4.526e-08\u001b[m\n",
      "  29    -0.3029173100    -109.2388095311 \u001b[32m    8.762e-09\u001b[m \u001b[31m    2.976e-08\u001b[m\n",
      "  30    -0.3029173157    -109.2388095368 \u001b[32m    5.745e-09\u001b[m \u001b[31m    1.957e-08\u001b[m\n",
      "  31    -0.3029173195    -109.2388095406 \u001b[32m    3.767e-09\u001b[m \u001b[31m    1.286e-08\u001b[m\n",
      "  32    -0.3029173219    -109.2388095431 \u001b[32m    2.471e-09\u001b[m \u001b[32m    8.458e-09\u001b[m\n",
      "\u001b[32mConverged.\u001b[m\n",
      "E(corr) = -0.3029173219\n",
      "E(tot)  = -109.2388095431\n",
      "\n",
      "\u001b[1m\u001b[4mRCCSD\u001b[m\n",
      "\u001b[1mOptions\u001b[m:\n",
      " > e_tol:  \u001b[33m1e-08\u001b[m\n",
      " > t_tol:  \u001b[33m1e-08\u001b[m\n",
      " > max_iter:  \u001b[33m200\u001b[m\n",
      " > diis_space:  \u001b[33m9\u001b[m\n",
      " > diis_min_space:  \u001b[33m1\u001b[m\n",
      " > damping:  \u001b[33m0.0\u001b[m\n",
      "\u001b[1mAnsatz\u001b[m: \u001b[35mCCSD\u001b[m\n",
      "\u001b[1mSpace\u001b[m: \u001b[35m(7o, 39v)\u001b[m\n",
      "Solving for excitation amplitudes.\n",
      "\u001b[1mIter   Energy (corr.)      Energy (tot.)     Δ(Energy)      Δ(Ampl.)\u001b[m\n",
      "   0    -0.2946967101    -109.2305889312\n",
      "   1    -0.2929471958    -109.2288394169 \u001b[31m    1.750e-03\u001b[m \u001b[31m    1.223e-02\u001b[m\n",
      "   2    -0.3012030037    -109.2370952249 \u001b[31m    8.256e-03\u001b[m \u001b[31m    3.900e-03\u001b[m\n",
      "   3    -0.3018642645    -109.2377564857 \u001b[31m    6.613e-04\u001b[m \u001b[31m    1.886e-03\u001b[m\n",
      "   4    -0.3025349696    -109.2384271907 \u001b[31m    6.707e-04\u001b[m \u001b[31m    7.699e-04\u001b[m\n",
      "   5    -0.3027230475    -109.2386152686 \u001b[31m    1.881e-04\u001b[m \u001b[31m    4.568e-04\u001b[m\n",
      "   6    -0.3028272669    -109.2387194880 \u001b[31m    1.042e-04\u001b[m \u001b[31m    2.238e-04\u001b[m\n",
      "   7    -0.3028720867    -109.2387643078 \u001b[31m    4.482e-05\u001b[m \u001b[31m    1.210e-04\u001b[m\n",
      "   8    -0.3028947953    -109.2387870164 \u001b[31m    2.271e-05\u001b[m \u001b[31m    6.211e-05\u001b[m\n",
      "   9    -0.3029058645    -109.2387980856 \u001b[31m    1.107e-05\u001b[m \u001b[31m    3.277e-05\u001b[m\n",
      "  10    -0.3029114801    -109.2388037012 \u001b[31m    5.616e-06\u001b[m \u001b[31m    1.703e-05\u001b[m\n",
      "  11    -0.3029143234    -109.2388065445 \u001b[31m    2.843e-06\u001b[m \u001b[31m    8.923e-06\u001b[m\n",
      "  12    -0.3029157799    -109.2388080010 \u001b[31m    1.456e-06\u001b[m \u001b[31m    4.652e-06\u001b[m\n",
      "  13    -0.3029165276    -109.2388087488 \u001b[31m    7.478e-07\u001b[m \u001b[31m    2.431e-06\u001b[m\n",
      "  14    -0.3029169132    -109.2388091343 \u001b[31m    3.856e-07\u001b[m \u001b[31m    1.268e-06\u001b[m\n",
      "  15    -0.3029171124    -109.2388093335 \u001b[31m    1.992e-07\u001b[m \u001b[31m    6.619e-07\u001b[m\n",
      "  16    -0.3029172155    -109.2388094366 \u001b[31m    1.031e-07\u001b[m \u001b[31m    3.453e-07\u001b[m\n",
      "  17    -0.3029172690    -109.2388094901 \u001b[31m    5.344e-08\u001b[m \u001b[31m    1.801e-07\u001b[m\n",
      "  18    -0.3029172967    -109.2388095178 \u001b[31m    2.773e-08\u001b[m \u001b[31m    9.396e-08\u001b[m\n",
      "  19    -0.3029173111    -109.2388095322 \u001b[31m    1.439e-08\u001b[m \u001b[31m    4.901e-08\u001b[m\n",
      "  20    -0.3029173186    -109.2388095397 \u001b[32m    7.478e-09\u001b[m \u001b[31m    2.556e-08\u001b[m\n",
      "  21    -0.3029173224    -109.2388095436 \u001b[32m    3.887e-09\u001b[m \u001b[31m    1.333e-08\u001b[m\n",
      "  22    -0.3029173245    -109.2388095456 \u001b[32m    2.021e-09\u001b[m \u001b[32m    6.955e-09\u001b[m\n",
      "\u001b[32mConverged.\u001b[m\n",
      "E(corr) = -0.3029173245\n",
      "E(tot)  = -109.2388095456\n"
     ]
    },
    {
     "data": {
      "text/plain": [
       "-0.30291732446993286"
      ]
     },
     "execution_count": 3,
     "metadata": {},
     "output_type": "execute_result"
    }
   ],
   "source": [
    "from ebcc import EBCC\n",
    "from ebcc.core.damping import LinearDamping, NoDamping\n",
    "\n",
    "ccsd = EBCC(mf, damping=0.5, log=log)\n",
    "ccsd.Damping = LinearDamping\n",
    "ccsd.kernel()\n",
    "\n",
    "ccsd = EBCC(mf, log=log)\n",
    "ccsd.Damping = NoDamping\n",
    "ccsd.kernel()"
   ]
  },
  {
   "cell_type": "markdown",
   "id": "1acd873f-2307-476b-a8e9-a10c7c6407be",
   "metadata": {},
   "source": [
    "The Hamiltonian elements are controlled by just-in-time containers that transform and cache blocks of integrals when they are requested. This allows the same integrals classes to be used for all ansatzes, without the need to transform redundant blocks of the MO basis integrals.\n",
    "\n",
    "Warning that the following example may not behave as intended unless the notebook is run once with cells in a consecutive order, due to the global behaviour of symbols in a notebook."
   ]
  },
  {
   "cell_type": "code",
   "execution_count": 4,
   "id": "a5722768-06de-46b9-961e-f0013ba6c1af",
   "metadata": {},
   "outputs": [
    {
     "name": "stdout",
     "output_type": "stream",
     "text": [
      "Memory usage (no integrals): 153.887 MB\n",
      "(ov|ov) shape: (7, 39, 7, 39)\n",
      "Memory usage (with (ov|ov)): 154.935 MB\n",
      "(ov|vv) shape: (7, 39, 39, 39)\n",
      "(vv|vv) shape: (39, 39, 39, 39)\n",
      "Memory usage (with (ov|ov), (ov|vv), (vv|vv)): 189.825 MB\n"
     ]
    }
   ],
   "source": [
    "from pyscf import lib\n",
    "from ebcc import NullLogger\n",
    "\n",
    "ccsd = EBCC(mf, log=NullLogger())\n",
    "eris = ccsd.get_eris()\n",
    "\n",
    "print(f\"Memory usage (no integrals): {lib.current_memory()[0]:.3f} MB\")\n",
    "\n",
    "ovov = eris.ovov\n",
    "print(f\"(ov|ov) shape:\", ovov.shape)\n",
    "\n",
    "print(f\"Memory usage (with (ov|ov)): {lib.current_memory()[0]:.3f} MB\")\n",
    "\n",
    "ovvv = eris.ovvv\n",
    "print(f\"(ov|vv) shape:\", ovvv.shape)\n",
    "vvvv = eris.vvvv\n",
    "print(f\"(vv|vv) shape:\", vvvv.shape)\n",
    "\n",
    "print(f\"Memory usage (with (ov|ov), (ov|vv), (vv|vv)): {lib.current_memory()[0]:.3f} MB\")"
   ]
  },
  {
   "cell_type": "markdown",
   "id": "6c9dea69-1b56-418a-a40f-7784415022c5",
   "metadata": {},
   "source": [
    "`ebcc` has support for dumping and loading the state of a calculation to disk, in the format of HDF5 via the `h5py` library. Note that the contents of the DIIS object are not written via this method, so the total number of iterations required may be slightly higher in some cases."
   ]
  },
  {
   "cell_type": "code",
   "execution_count": 5,
   "id": "ae34e398-c2d6-4627-b570-f72feb2dfd21",
   "metadata": {},
   "outputs": [
    {
     "name": "stdout",
     "output_type": "stream",
     "text": [
      "\n",
      "\u001b[1m\u001b[4mRCCSD\u001b[m\n",
      "\u001b[1mOptions\u001b[m:\n",
      " > e_tol:  \u001b[33m1e-08\u001b[m\n",
      " > t_tol:  \u001b[33m1e-08\u001b[m\n",
      " > max_iter:  \u001b[33m200\u001b[m\n",
      " > diis_space:  \u001b[33m9\u001b[m\n",
      " > diis_min_space:  \u001b[33m1\u001b[m\n",
      " > damping:  \u001b[33m0.0\u001b[m\n",
      "\u001b[1mAnsatz\u001b[m: \u001b[35mCCSD\u001b[m\n",
      "\u001b[1mSpace\u001b[m: \u001b[35m(7o, 39v)\u001b[m\n",
      "Solving for excitation amplitudes.\n",
      "\u001b[1mIter   Energy (corr.)      Energy (tot.)     Δ(Energy)      Δ(Ampl.)\u001b[m\n",
      "   0    -0.2946967101    -109.2305889312\n",
      "   1    -0.2929471958    -109.2288394169 \u001b[31m    1.750e-03\u001b[m \u001b[31m    1.223e-02\u001b[m\n",
      "   2    -0.3012030037    -109.2370952249 \u001b[31m    8.256e-03\u001b[m \u001b[31m    3.900e-03\u001b[m\n",
      "   3    -0.3020888054    -109.2379810265 \u001b[31m    8.858e-04\u001b[m \u001b[31m    2.526e-03\u001b[m\n",
      "   4    -0.3029697821    -109.2388620032 \u001b[31m    8.810e-04\u001b[m \u001b[31m    8.621e-04\u001b[m\n",
      "   5    -0.3029237180    -109.2388159391 \u001b[31m    4.606e-05\u001b[m \u001b[31m    2.780e-04\u001b[m\n",
      "   6    -0.3029133080    -109.2388055291 \u001b[31m    1.041e-05\u001b[m \u001b[31m    1.210e-05\u001b[m\n",
      "   7    -0.3029173594    -109.2388095805 \u001b[31m    4.051e-06\u001b[m \u001b[31m    8.501e-06\u001b[m\n",
      "   8    -0.3029174897    -109.2388097108 \u001b[31m    1.303e-07\u001b[m \u001b[31m    7.707e-07\u001b[m\n",
      "\u001b[31mFailed to converge.\u001b[m\n",
      "E(corr) = -0.3029174897\n",
      "E(tot)  = -109.2388097108\n",
      "\n",
      "\u001b[1m\u001b[4mRCCSD\u001b[m\n",
      "\u001b[1mOptions\u001b[m:\n",
      " > e_tol:  \u001b[33m1e-08\u001b[m\n",
      " > t_tol:  \u001b[33m1e-08\u001b[m\n",
      " > max_iter:  \u001b[33m8\u001b[m\n",
      " > diis_space:  \u001b[33m9\u001b[m\n",
      " > diis_min_space:  \u001b[33m1\u001b[m\n",
      " > damping:  \u001b[33m0.0\u001b[m\n",
      "\u001b[1mAnsatz\u001b[m: \u001b[35mCCSD\u001b[m\n",
      "\u001b[1mSpace\u001b[m: \u001b[35m(7o, 39v)\u001b[m\n",
      "Solving for excitation amplitudes.\n",
      "\u001b[1mIter   Energy (corr.)      Energy (tot.)     Δ(Energy)      Δ(Ampl.)\u001b[m\n",
      "   0    -0.3029174897    -109.2388097108\n",
      "   1    -0.3029173345    -109.2388095556 \u001b[31m    1.552e-07\u001b[m \u001b[31m    1.801e-07\u001b[m\n",
      "   2    -0.3029173324    -109.2388095535 \u001b[32m    2.114e-09\u001b[m \u001b[31m    6.926e-08\u001b[m\n",
      "   3    -0.3029173272    -109.2388095483 \u001b[32m    5.195e-09\u001b[m \u001b[31m    3.772e-08\u001b[m\n",
      "   4    -0.3029173265    -109.2388095477 \u001b[32m    6.298e-10\u001b[m \u001b[31m    1.841e-08\u001b[m\n",
      "   5    -0.3029173269    -109.2388095480 \u001b[32m    3.225e-10\u001b[m \u001b[32m    4.982e-09\u001b[m\n",
      "\u001b[32mConverged.\u001b[m\n",
      "E(corr) = -0.3029173269\n",
      "E(tot)  = -109.2388095480\n"
     ]
    }
   ],
   "source": [
    "import os\n",
    "from ebcc import REBCC\n",
    "\n",
    "ccsd = REBCC(mf, log=log)\n",
    "ccsd.options.max_iter = 8\n",
    "ccsd.kernel()\n",
    "\n",
    "ccsd.write(\"restart.h5\")\n",
    "\n",
    "ccsd = REBCC.read(\"restart.h5\", log=log)\n",
    "ccsd.max_iter = 30\n",
    "ccsd.kernel()\n",
    "\n",
    "os.remove(\"restart.h5\")"
   ]
  }
 ],
 "metadata": {
  "kernelspec": {
   "display_name": "Python 3 (ipykernel)",
   "language": "python",
   "name": "python3"
  },
  "language_info": {
   "codemirror_mode": {
    "name": "ipython",
    "version": 3
   },
   "file_extension": ".py",
   "mimetype": "text/x-python",
   "name": "python",
   "nbconvert_exporter": "python",
   "pygments_lexer": "ipython3",
   "version": "3.10.12"
  }
 },
 "nbformat": 4,
 "nbformat_minor": 5
}

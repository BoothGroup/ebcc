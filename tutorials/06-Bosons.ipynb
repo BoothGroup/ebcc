{
 "cells": [
  {
   "cell_type": "markdown",
   "id": "7264ea53-5c6a-4574-80bf-2125c2a51935",
   "metadata": {},
   "source": [
    "# Bosons"
   ]
  },
  {
   "cell_type": "markdown",
   "id": "299b8899-3e5e-4e41-b3c3-f798b7e283f4",
   "metadata": {},
   "source": [
    "As the name suggests, `ebcc` is also capable of doing coupled cluster calculations on systems of coupled electrons and bosons. A number of ansatzes are offered, which include bosonic amplitudes, and the functionality described in the previous tutorials should generally apply to this ansatzes too."
   ]
  },
  {
   "cell_type": "code",
   "execution_count": 1,
   "id": "e5bb7763-9120-4637-8ec0-876cdff53dc1",
   "metadata": {},
   "outputs": [
    {
     "data": {
      "text/plain": [
       "-99.98739744034869"
      ]
     },
     "execution_count": 1,
     "metadata": {},
     "output_type": "execute_result"
    }
   ],
   "source": [
    "import numpy as np\n",
    "from pyscf import gto, scf\n",
    "\n",
    "mol = gto.M(\n",
    "    atom=\"H 0 0 0; F 0 0 1.1\",\n",
    "    basis=\"cc-pvdz\",\n",
    "    verbose=0,\n",
    ")\n",
    "\n",
    "mf = scf.RHF(mol)\n",
    "mf.kernel()"
   ]
  },
  {
   "cell_type": "code",
   "execution_count": 2,
   "id": "c453f079-8ebd-4b50-b77a-f237c9d63bf9",
   "metadata": {},
   "outputs": [],
   "source": [
    "import sys\n",
    "from logging import StreamHandler\n",
    "from ebcc.core.logging import Logger\n",
    "\n",
    "log = Logger(\"main\")\n",
    "log.setLevel(0)\n",
    "log.addHandler(StreamHandler(sys.stdout))"
   ]
  },
  {
   "cell_type": "code",
   "execution_count": 3,
   "id": "29ad3041-a80c-475f-836d-72104399d270",
   "metadata": {},
   "outputs": [
    {
     "name": "stdout",
     "output_type": "stream",
     "text": [
      "\u001b[1m        _\n",
      "       | |\n",
      "   ___ | |__    ___   ___\n",
      "  / _ \\| '_ \\  / __| / __|\n",
      " |  __/| |_) || (__ | (__\n",
      "  \\___||_.__/  \\___| \\___|\n",
      "                     \u001b[1m1.5.0\u001b[m\u001b[m\n",
      "numpy:\n",
      " > Version:  1.26.1\n",
      " > Git hash: N/A\n",
      "pyscf:\n",
      " > Version:  2.6.2\n",
      " > Git hash: N/A\n",
      "ebcc:\n",
      " > Version:  1.5.0\n",
      " > Git hash: N/A\n",
      "OMP_NUM_THREADS = 1\n",
      "\n",
      "\n",
      "\u001b[1m\u001b[4mRCCSD-S-1-1\u001b[m\n",
      "\u001b[1m***********\u001b[m\n",
      "\n",
      "\u001b[1mOptions\u001b[m:\n",
      " > e_tol:  \u001b[33m1e-08\u001b[m\n",
      " > t_tol:  \u001b[33m1e-08\u001b[m\n",
      " > max_iter:  \u001b[33m200\u001b[m\n",
      " > diis_space:  \u001b[33m9\u001b[m\n",
      " > diis_min_space:  \u001b[33m1\u001b[m\n",
      " > damping:  \u001b[33m0.0\u001b[m\n",
      "\n",
      "\u001b[1mAnsatz\u001b[m: \u001b[35mCCSD-S-1-1\u001b[m\n",
      "\n",
      "\u001b[1mSpace\u001b[m: \u001b[35m(5o, 14v)\u001b[m\n",
      "\n",
      "\u001b[1mBosons\u001b[m: \u001b[35m5\u001b[m\n",
      " > Energy shift due to polaritonic basis:  0.0985015367\n",
      "\n",
      "Solving for excitation amplitudes.\n",
      "\n",
      "\u001b[1mIter   Energy (corr.)      Energy (tot.)     Δ(Energy)      Δ(Ampl.)\u001b[m\n",
      "   0    -0.2464590291    -100.2338564694\n",
      "   1    -0.2527920776    -100.2401895179 \u001b[31m    6.333e-03\u001b[m \u001b[31m    2.316e-02\u001b[m\n",
      "   2    -0.2595545578    -100.2469519981 \u001b[31m    6.762e-03\u001b[m \u001b[31m    2.182e-02\u001b[m\n",
      "   3    -0.2595091630    -100.2469066034 \u001b[31m    4.539e-05\u001b[m \u001b[31m    1.121e-02\u001b[m\n",
      "   4    -0.2608246737    -100.2482221140 \u001b[31m    1.316e-03\u001b[m \u001b[31m    5.561e-03\u001b[m\n",
      "   5    -0.2615307122    -100.2489281525 \u001b[31m    7.060e-04\u001b[m \u001b[31m    2.862e-03\u001b[m\n",
      "   6    -0.2614265968    -100.2488240371 \u001b[31m    1.041e-04\u001b[m \u001b[31m    2.748e-04\u001b[m\n",
      "   7    -0.2614224604    -100.2488199008 \u001b[31m    4.136e-06\u001b[m \u001b[31m    3.490e-04\u001b[m\n",
      "   8    -0.2614163984    -100.2488138388 \u001b[31m    6.062e-06\u001b[m \u001b[31m    3.617e-05\u001b[m\n",
      "   9    -0.2614146969    -100.2488121373 \u001b[31m    1.702e-06\u001b[m \u001b[31m    1.189e-05\u001b[m\n",
      "  10    -0.2614149948    -100.2488124351 \u001b[31m    2.978e-07\u001b[m \u001b[31m    3.751e-06\u001b[m\n",
      "  11    -0.2614151128    -100.2488125532 \u001b[31m    1.181e-07\u001b[m \u001b[31m    1.499e-06\u001b[m\n",
      "  12    -0.2614149411    -100.2488123814 \u001b[31m    1.718e-07\u001b[m \u001b[31m    9.355e-07\u001b[m\n",
      "  13    -0.2614149747    -100.2488124150 \u001b[31m    3.360e-08\u001b[m \u001b[31m    6.776e-07\u001b[m\n",
      "  14    -0.2614149696    -100.2488124100 \u001b[32m    5.053e-09\u001b[m \u001b[31m    9.714e-08\u001b[m\n",
      "  15    -0.2614149690    -100.2488124093 \u001b[32m    6.601e-10\u001b[m \u001b[31m    3.500e-08\u001b[m\n",
      "  16    -0.2614149664    -100.2488124067 \u001b[32m    2.586e-09\u001b[m \u001b[31m    1.979e-08\u001b[m\n",
      "  17    -0.2614149671    -100.2488124075 \u001b[32m    7.429e-10\u001b[m \u001b[32m    6.682e-09\u001b[m\n",
      "\n",
      "\u001b[32mConverged.\u001b[m\n",
      "\n",
      "E(corr) = -0.2614149671\n",
      "E(tot)  = -100.2488124075\n",
      "\n",
      "Time elapsed: 180 ms\n",
      "\n"
     ]
    },
    {
     "data": {
      "text/plain": [
       "-0.2614149671117516"
      ]
     },
     "execution_count": 3,
     "metadata": {},
     "output_type": "execute_result"
    }
   ],
   "source": [
    "from ebcc import EBCC\n",
    "\n",
    "nboson = 5\n",
    "nmo = mf.mo_occ.size\n",
    "coupling = np.random.random((nboson, nmo, nmo)) * 0.025\n",
    "omega = np.random.random((nboson,)) * 5.0\n",
    "\n",
    "ccsd_s_1_1 = EBCC(mf, ansatz=\"CCSD-S-1-1\", omega=omega, g=coupling, log=log)\n",
    "ccsd_s_1_1.kernel()"
   ]
  },
  {
   "cell_type": "markdown",
   "id": "9178566b-6e06-4cdf-a2ce-82fdeebeb131",
   "metadata": {},
   "source": [
    "We can increase the bosonic amplitude order, and the coupling rank."
   ]
  },
  {
   "cell_type": "code",
   "execution_count": 4,
   "id": "c67f8c47-f3a8-4c29-a698-1caf92d017f2",
   "metadata": {},
   "outputs": [
    {
     "name": "stdout",
     "output_type": "stream",
     "text": [
      "\n",
      "\u001b[1m\u001b[4mRCCSD-S-1-1\u001b[m\n",
      "\u001b[1m***********\u001b[m\n",
      "\n",
      "\u001b[1mOptions\u001b[m:\n",
      " > e_tol:  \u001b[33m1e-08\u001b[m\n",
      " > t_tol:  \u001b[33m1e-08\u001b[m\n",
      " > max_iter:  \u001b[33m200\u001b[m\n",
      " > diis_space:  \u001b[33m9\u001b[m\n",
      " > diis_min_space:  \u001b[33m1\u001b[m\n",
      " > damping:  \u001b[33m0.0\u001b[m\n",
      "\n",
      "\u001b[1mAnsatz\u001b[m: \u001b[35mCCSD-S-1-1\u001b[m\n",
      "\n",
      "\u001b[1mSpace\u001b[m: \u001b[35m(5o, 14v)\u001b[m\n",
      "\n",
      "\u001b[1mBosons\u001b[m: \u001b[35m5\u001b[m\n",
      " > Energy shift due to polaritonic basis:  0.0985015367\n",
      "\n",
      "Solving for excitation amplitudes.\n",
      "\n",
      "\u001b[1mIter   Energy (corr.)      Energy (tot.)     Δ(Energy)      Δ(Ampl.)\u001b[m\n",
      "   0    -0.2464590291    -100.2338564694\n",
      "   1    -0.2527920776    -100.2401895179 \u001b[31m    6.333e-03\u001b[m \u001b[31m    2.316e-02\u001b[m\n",
      "   2    -0.2595545578    -100.2469519981 \u001b[31m    6.762e-03\u001b[m \u001b[31m    2.182e-02\u001b[m\n",
      "   3    -0.2595091630    -100.2469066034 \u001b[31m    4.539e-05\u001b[m \u001b[31m    1.121e-02\u001b[m\n",
      "   4    -0.2608246737    -100.2482221140 \u001b[31m    1.316e-03\u001b[m \u001b[31m    5.561e-03\u001b[m\n",
      "   5    -0.2615307122    -100.2489281525 \u001b[31m    7.060e-04\u001b[m \u001b[31m    2.862e-03\u001b[m\n",
      "   6    -0.2614265968    -100.2488240371 \u001b[31m    1.041e-04\u001b[m \u001b[31m    2.748e-04\u001b[m\n",
      "   7    -0.2614224604    -100.2488199008 \u001b[31m    4.136e-06\u001b[m \u001b[31m    3.490e-04\u001b[m\n",
      "   8    -0.2614163984    -100.2488138388 \u001b[31m    6.062e-06\u001b[m \u001b[31m    3.617e-05\u001b[m\n",
      "   9    -0.2614146969    -100.2488121373 \u001b[31m    1.702e-06\u001b[m \u001b[31m    1.189e-05\u001b[m\n",
      "  10    -0.2614149948    -100.2488124351 \u001b[31m    2.978e-07\u001b[m \u001b[31m    3.751e-06\u001b[m\n",
      "  11    -0.2614151128    -100.2488125532 \u001b[31m    1.181e-07\u001b[m \u001b[31m    1.499e-06\u001b[m\n",
      "  12    -0.2614149411    -100.2488123814 \u001b[31m    1.718e-07\u001b[m \u001b[31m    9.355e-07\u001b[m\n",
      "  13    -0.2614149747    -100.2488124150 \u001b[31m    3.360e-08\u001b[m \u001b[31m    6.776e-07\u001b[m\n",
      "  14    -0.2614149696    -100.2488124100 \u001b[32m    5.053e-09\u001b[m \u001b[31m    9.714e-08\u001b[m\n",
      "  15    -0.2614149690    -100.2488124093 \u001b[32m    6.601e-10\u001b[m \u001b[31m    3.500e-08\u001b[m\n",
      "  16    -0.2614149664    -100.2488124067 \u001b[32m    2.586e-09\u001b[m \u001b[31m    1.979e-08\u001b[m\n",
      "  17    -0.2614149671    -100.2488124075 \u001b[32m    7.429e-10\u001b[m \u001b[32m    6.682e-09\u001b[m\n",
      "\n",
      "\u001b[32mConverged.\u001b[m\n",
      "\n",
      "E(corr) = -0.2614149671\n",
      "E(tot)  = -100.2488124075\n",
      "\n",
      "Time elapsed: 180 ms\n",
      "\n"
     ]
    },
    {
     "data": {
      "text/plain": [
       "-0.2614149671117516"
      ]
     },
     "execution_count": 4,
     "metadata": {},
     "output_type": "execute_result"
    }
   ],
   "source": [
    "ccsd_sd_1_2 = EBCC(mf, ansatz=\"CCSD-S-1-1\", omega=omega, g=coupling, log=log)\n",
    "ccsd_sd_1_2.kernel()"
   ]
  }
 ],
 "metadata": {
  "kernelspec": {
   "display_name": "Python 3 (ipykernel)",
   "language": "python",
   "name": "python3"
  },
  "language_info": {
   "codemirror_mode": {
    "name": "ipython",
    "version": 3
   },
   "file_extension": ".py",
   "mimetype": "text/x-python",
   "name": "python",
   "nbconvert_exporter": "python",
   "pygments_lexer": "ipython3",
   "version": "3.10.12"
  }
 },
 "nbformat": 4,
 "nbformat_minor": 5
}

{
 "cells": [
  {
   "cell_type": "markdown",
   "id": "2541d767-b2ff-4b77-9011-56fb56fe1c01",
   "metadata": {},
   "source": [
    "# Precision"
   ]
  },
  {
   "cell_type": "markdown",
   "id": "5576f865-64e6-4aee-8729-288ab834cccd",
   "metadata": {},
   "source": [
    "`ebcc` supports single precision calculation, and this can be used to allow for mixed precision convergence, where a cheaper single precision calculation converges a set of amplitudes to use as a guess for a double precision calculation.\n",
    "\n",
    "To perform a calculation in single precision, the context manager provided by `ebcc` can be used to handle the underlying casting and array initialisation. When using single precision, one typically will wish to relax the default convergence thresholds, since they may be less than machine precision for 32-bit floating points.\n",
    "\n",
    "As many of the other features in `ebcc`, the precision control is designed to be agnostic to the method and ansatz, and should work seamlessly with any other functionality."
   ]
  },
  {
   "cell_type": "code",
   "execution_count": 5,
   "id": "84e4c4d8-2a4b-4171-906d-ffd28f41431b",
   "metadata": {},
   "outputs": [],
   "source": [
    "import numpy as np\n",
    "from pyscf import gto, scf\n",
    "\n",
    "mol = gto.M(atom=\"N 0 0 0; N 0 0 1.1\", basis=\"cc-pvtz\", verbose=0)\n",
    "mf = scf.RHF(mol).run()"
   ]
  },
  {
   "cell_type": "code",
   "execution_count": 6,
   "id": "cb9bb23f-7f0d-46fc-baea-739adbaa4530",
   "metadata": {},
   "outputs": [],
   "source": [
    "import sys\n",
    "from logging import StreamHandler\n",
    "from ebcc.core.logging import Logger\n",
    "\n",
    "log = Logger(\"main\")\n",
    "log.setLevel(0)\n",
    "log.addHandler(StreamHandler(sys.stdout))"
   ]
  },
  {
   "cell_type": "code",
   "execution_count": 18,
   "id": "1bfda845-f5ce-4cd5-9147-bc4b60ca1543",
   "metadata": {},
   "outputs": [
    {
     "name": "stdout",
     "output_type": "stream",
     "text": [
      "\n",
      "\u001b[1m\u001b[4mRCCSD\u001b[m\n",
      "\u001b[1m*****\u001b[m\n",
      "\n",
      "\u001b[1mOptions\u001b[m:\n",
      " > e_tol:  \u001b[33m1e-05\u001b[m\n",
      " > t_tol:  \u001b[33m0.0001\u001b[m\n",
      " > max_iter:  \u001b[33m200\u001b[m\n",
      " > diis_space:  \u001b[33m9\u001b[m\n",
      " > diis_min_space:  \u001b[33m1\u001b[m\n",
      " > damping:  \u001b[33m0.0\u001b[m\n",
      "\n",
      "\u001b[1mAnsatz\u001b[m: \u001b[35mCCSD\u001b[m\n",
      "\n",
      "\u001b[1mSpace\u001b[m: \u001b[35m(7o, 53v)\u001b[m\n",
      "\n",
      "Solving for excitation amplitudes.\n",
      "\n",
      "\u001b[1mIter   Energy (corr.)      Energy (tot.)     Δ(Energy)      Δ(Ampl.)\u001b[m\n",
      "   0    -0.4000224173    -109.3830289495\n",
      "   1    -0.3817788363    -109.3647853685 \u001b[31m    1.824e-02\u001b[m \u001b[31m    1.898e-02\u001b[m\n",
      "   2    -0.3978574574    -109.3808639896 \u001b[31m    1.608e-02\u001b[m \u001b[31m    5.841e-03\u001b[m\n",
      "   3    -0.3960854113    -109.3790919436 \u001b[31m    1.772e-03\u001b[m \u001b[31m    2.377e-03\u001b[m\n",
      "   4    -0.3979303539    -109.3809368861 \u001b[31m    1.845e-03\u001b[m \u001b[31m    1.819e-03\u001b[m\n",
      "   5    -0.3979354501    -109.3809419823 \u001b[32m    5.096e-06\u001b[m \u001b[31m    3.083e-04\u001b[m\n",
      "   6    -0.3979302943    -109.3809368265 \u001b[32m    5.156e-06\u001b[m \u001b[32m    3.023e-05\u001b[m\n",
      "\n",
      "\u001b[32mConverged.\u001b[m\n",
      "\n",
      "E(corr) = -0.3979302943\n",
      "E(tot)  = -109.3809356689\n",
      "\n",
      "Time elapsed: 794 ms\n",
      "\n",
      "Energy dtype: float32\n",
      "T1 dtype: float32\n"
     ]
    }
   ],
   "source": [
    "from ebcc import REBCC\n",
    "from ebcc.precision import single_precision\n",
    "\n",
    "with single_precision():\n",
    "    ccsd_sp = REBCC(mf, e_tol=1e-5, t_tol=1e-4, log=log)\n",
    "    ccsd_sp.kernel()\n",
    "\n",
    "    print(\"Energy dtype:\", ccsd_sp.e_tot.dtype)\n",
    "    print(\"T1 dtype:\", ccsd_sp.t1.dtype)"
   ]
  },
  {
   "cell_type": "markdown",
   "id": "de9a1953-323c-44d8-adc2-d4833983c1b2",
   "metadata": {},
   "source": [
    "Care should be taken with attributes outside of the context, since those that are properties under the hood may perform some arithmetic that results in promotion since the context has exited."
   ]
  },
  {
   "cell_type": "code",
   "execution_count": 19,
   "id": "6a69d3fb-61de-44e2-b3e4-ebb786ec1f08",
   "metadata": {},
   "outputs": [
    {
     "name": "stdout",
     "output_type": "stream",
     "text": [
      "Energy dtype (outside of context): float64\n"
     ]
    }
   ],
   "source": [
    "print(\"Energy dtype (outside of context):\", ccsd_sp.e_tot.dtype)"
   ]
  },
  {
   "cell_type": "markdown",
   "id": "5b6bbc1f-b34b-49d8-917b-a7607cc71ec6",
   "metadata": {},
   "source": [
    "Outside of the context manager, the initialised arrays and Hamiltonian will be double precision, so passing the 32-bit amplitudes should not be a problem as they will be quickly casted to 64-bit in the first iteration."
   ]
  },
  {
   "cell_type": "code",
   "execution_count": 21,
   "id": "a23586f5-7cc3-42f4-a6e7-8296ff0bf18e",
   "metadata": {},
   "outputs": [
    {
     "name": "stdout",
     "output_type": "stream",
     "text": [
      "\n",
      "\u001b[1m\u001b[4mRCCSD\u001b[m\n",
      "\u001b[1m*****\u001b[m\n",
      "\n",
      "\u001b[1mOptions\u001b[m:\n",
      " > e_tol:  \u001b[33m1e-08\u001b[m\n",
      " > t_tol:  \u001b[33m1e-08\u001b[m\n",
      " > max_iter:  \u001b[33m200\u001b[m\n",
      " > diis_space:  \u001b[33m9\u001b[m\n",
      " > diis_min_space:  \u001b[33m1\u001b[m\n",
      " > damping:  \u001b[33m0.0\u001b[m\n",
      "\n",
      "\u001b[1mAnsatz\u001b[m: \u001b[35mCCSD\u001b[m\n",
      "\n",
      "\u001b[1mSpace\u001b[m: \u001b[35m(7o, 53v)\u001b[m\n",
      "\n",
      "Solving for excitation amplitudes.\n",
      "\n",
      "\u001b[1mIter   Energy (corr.)      Energy (tot.)     Δ(Energy)      Δ(Ampl.)\u001b[m\n",
      "   0    -0.3979302835    -109.3809368157\n",
      "   1    -0.3979367203    -109.3809432525 \u001b[31m    6.437e-06\u001b[m \u001b[31m    7.550e-06\u001b[m\n",
      "   2    -0.3979365774    -109.3809431096 \u001b[31m    1.429e-07\u001b[m \u001b[31m    3.090e-06\u001b[m\n",
      "   3    -0.3979372471    -109.3809437793 \u001b[31m    6.697e-07\u001b[m \u001b[31m    3.101e-06\u001b[m\n",
      "   4    -0.3979370159    -109.3809435482 \u001b[31m    2.311e-07\u001b[m \u001b[31m    2.303e-07\u001b[m\n",
      "   5    -0.3979371028    -109.3809436350 \u001b[31m    8.683e-08\u001b[m \u001b[31m    1.623e-07\u001b[m\n",
      "   6    -0.3979371068    -109.3809436390 \u001b[32m    4.019e-09\u001b[m \u001b[31m    2.117e-08\u001b[m\n",
      "   7    -0.3979371172    -109.3809436494 \u001b[31m    1.037e-08\u001b[m \u001b[31m    1.491e-08\u001b[m\n",
      "   8    -0.3979371163    -109.3809436485 \u001b[32m    9.048e-10\u001b[m \u001b[31m    4.400e-08\u001b[m\n",
      "   9    -0.3979371147    -109.3809436469 \u001b[32m    1.575e-09\u001b[m \u001b[32m    9.038e-09\u001b[m\n",
      "\n",
      "\u001b[32mConverged.\u001b[m\n",
      "\n",
      "E(corr) = -0.3979371147\n",
      "E(tot)  = -109.3809436469\n",
      "\n",
      "Time elapsed: 1 s 510 ms\n",
      "\n",
      "Energy dtype: float64\n",
      "T1 dtype: float64\n"
     ]
    }
   ],
   "source": [
    "ccsd_dp = REBCC(mf, log=log)\n",
    "ccsd_dp.amplitudes = ccsd_sp.amplitudes\n",
    "ccsd_dp.kernel()\n",
    "\n",
    "print(\"Energy dtype:\", ccsd_dp.e_tot.dtype)\n",
    "print(\"T1 dtype:\", ccsd_dp.t1.dtype)"
   ]
  }
 ],
 "metadata": {
  "kernelspec": {
   "display_name": "Python 3 (ipykernel)",
   "language": "python",
   "name": "python3"
  },
  "language_info": {
   "codemirror_mode": {
    "name": "ipython",
    "version": 3
   },
   "file_extension": ".py",
   "mimetype": "text/x-python",
   "name": "python",
   "nbconvert_exporter": "python",
   "pygments_lexer": "ipython3",
   "version": "3.10.12"
  }
 },
 "nbformat": 4,
 "nbformat_minor": 5
}

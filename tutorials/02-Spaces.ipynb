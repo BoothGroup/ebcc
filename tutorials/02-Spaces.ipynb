{
 "cells": [
  {
   "cell_type": "markdown",
   "id": "4016ab48-9528-4224-9d3c-ccdd86caac0c",
   "metadata": {},
   "source": [
    "# Spaces"
   ]
  },
  {
   "cell_type": "markdown",
   "id": "9a267ee8-5f33-453a-937a-fff6288c099a",
   "metadata": {},
   "source": [
    "Spaces are handled in `ebcc` according to the following nomenclature:\n",
    "\n",
    "                ─┬─ ┌──────────┐\n",
    "                 │  │  frozen  │\n",
    "                 │  ├──────────┤ ─┬─\n",
    "         virtual │  │  active  │  │\n",
    "                 │  ├──────────┤  │ correlated\n",
    "                 │  │ inactive │  │\n",
    "                ─┼─ ├══════════┤ ─┼─\n",
    "                 │  │ inactive │  │\n",
    "                 │  ├──────────┤  │ correlated\n",
    "        occupied │  │  active  │  │\n",
    "                 │  ├──────────┤ ─┴─\n",
    "                 │  │  frozen  │\n",
    "                ─┴─ └──────────┘\n",
    "\n",
    "A plain coupled cluster calculation will operate within the correlated space. The simplest use of this system is frozen core calculations.\n",
    "\n",
    "First, we again find system and mean-field using PySCF, and initialise an appropriate logger."
   ]
  },
  {
   "cell_type": "code",
   "execution_count": 1,
   "id": "8e146c5a-94e9-4c35-8a49-fe7447640fab",
   "metadata": {},
   "outputs": [],
   "source": [
    "import numpy as np\n",
    "from pyscf import gto, scf\n",
    "\n",
    "mol = gto.M(atom=\"N 0 0 0; N 0 0 1.1\", basis=\"cc-pvdz\", verbose=0)\n",
    "mf = scf.RHF(mol).run()"
   ]
  },
  {
   "cell_type": "code",
   "execution_count": 2,
   "id": "48870af2-ac0b-4214-b51e-b487704f7fb6",
   "metadata": {},
   "outputs": [],
   "source": [
    "import sys\n",
    "from logging import StreamHandler\n",
    "from ebcc.core.logging import Logger\n",
    "\n",
    "log = Logger(\"main\")\n",
    "log.setLevel(0)\n",
    "log.addHandler(StreamHandler(sys.stdout))"
   ]
  },
  {
   "cell_type": "markdown",
   "id": "91329565-a90b-4b24-b491-cf4039d639dc",
   "metadata": {},
   "source": [
    "The `Space` class is constructed by providing boolean arrays indicating whether an orbital at that index is occupied, frozen, or active. In this example we freeze the two lowest energy MOs."
   ]
  },
  {
   "cell_type": "code",
   "execution_count": 3,
   "id": "712628d4-4623-4363-bd45-3b54c5095694",
   "metadata": {},
   "outputs": [
    {
     "name": "stdout",
     "output_type": "stream",
     "text": [
      "Space: (7o, 21v) [(2o, 0v) frozen]\n"
     ]
    }
   ],
   "source": [
    "from ebcc import Space\n",
    "\n",
    "occupied = mf.mo_occ > 0\n",
    "frozen = np.zeros_like(occupied)\n",
    "active = np.zeros_like(occupied)\n",
    "frozen[:2] = True\n",
    "\n",
    "space = Space(occupied, frozen, active)\n",
    "\n",
    "print(\"Space:\", space)"
   ]
  },
  {
   "cell_type": "markdown",
   "id": "65405c14-2608-4e29-927f-e34ac65444c4",
   "metadata": {},
   "source": [
    "The `active` space is used for methods that differentiate between the correlated orbitals in order to treat a subset of orbitals at a higher level of theory. The `frozen` and `active` arrays must be disjoint."
   ]
  },
  {
   "cell_type": "code",
   "execution_count": 4,
   "id": "100701e8-d3e8-4700-960a-625296e3db92",
   "metadata": {},
   "outputs": [
    {
     "name": "stdout",
     "output_type": "stream",
     "text": [
      "Space: (7o, 21v) [(1o, 0v) frozen, (1o, 0v) active]\n",
      "Error: Frozen and active orbitals must be mutually exclusive.\n"
     ]
    }
   ],
   "source": [
    "occupied = mf.mo_occ > 0\n",
    "frozen = np.zeros_like(occupied)\n",
    "active = np.zeros_like(occupied)\n",
    "frozen[:1] = True\n",
    "active[np.sum(mf.mo_occ > 0) - 1] = True\n",
    "space = Space(occupied, frozen, active)\n",
    "print(\"Space:\", space)\n",
    "\n",
    "try:\n",
    "    active = frozen\n",
    "    space = Space(occupied, frozen, active)\n",
    "except ValueError as e:\n",
    "    print(\"Error:\", e)"
   ]
  },
  {
   "cell_type": "markdown",
   "id": "8841fc30-9542-4c6e-a6a4-efedf0031e58",
   "metadata": {},
   "source": [
    "The space can be used in a calculation to perform the frozen-core CC calculation. All methods should be compatible with this procedure, as the code generation is agnostic to the definition of the space."
   ]
  },
  {
   "cell_type": "code",
   "execution_count": 5,
   "id": "bca44519-3dad-4461-9915-fd510bc8b767",
   "metadata": {},
   "outputs": [
    {
     "name": "stdout",
     "output_type": "stream",
     "text": [
      "\u001b[1m        _\n",
      "       | |\n",
      "   ___ | |__    ___   ___\n",
      "  / _ \\| '_ \\  / __| / __|\n",
      " |  __/| |_) || (__ | (__\n",
      "  \\___||_.__/  \\___| \\___|\n",
      "                     \u001b[1m1.5.0\u001b[m\u001b[m\n",
      "numpy:\n",
      " > Version:  1.26.4\n",
      " > Git hash: N/A\n",
      "pyscf:\n",
      " > Version:  2.6.2\n",
      " > Git hash: N/A\n",
      "ebcc:\n",
      " > Version:  1.5.0\n",
      " > Git hash: N/A\n",
      "OMP_NUM_THREADS = 1\n",
      "\n",
      "\n",
      "\u001b[1m\u001b[4mRCCSD\u001b[m\n",
      "\u001b[1m*****\u001b[m\n",
      "\n",
      "\u001b[1mOptions\u001b[m:\n",
      " > e_tol:  \u001b[33m1e-08\u001b[m\n",
      " > t_tol:  \u001b[33m1e-08\u001b[m\n",
      " > max_iter:  \u001b[33m200\u001b[m\n",
      " > diis_space:  \u001b[33m9\u001b[m\n",
      " > diis_min_space:  \u001b[33m1\u001b[m\n",
      " > damping:  \u001b[33m0.0\u001b[m\n",
      "\n",
      "\u001b[1mAnsatz\u001b[m: \u001b[35mCCSD\u001b[m\n",
      "\n",
      "\u001b[1mSpace\u001b[m: \u001b[35m(7o, 21v) [(2o, 0v) frozen]\u001b[m\n",
      "\n",
      "Solving for excitation amplitudes.\n",
      "\n",
      "\u001b[1mIter   Energy (corr.)      Energy (tot.)     Δ(Energy)      Δ(Ampl.)\u001b[m\n",
      "   0    -0.3069910359    -109.2607872768\n",
      "   1    -0.2961558041    -109.2499520450 \u001b[31m    1.084e-02\u001b[m \u001b[31m    1.453e-02\u001b[m\n",
      "   2    -0.3083989049    -109.2621951458 \u001b[31m    1.224e-02\u001b[m \u001b[31m    7.635e-03\u001b[m\n",
      "   3    -0.3082114791    -109.2620077200 \u001b[31m    1.874e-04\u001b[m \u001b[31m    2.606e-03\u001b[m\n",
      "   4    -0.3098129983    -109.2636092392 \u001b[31m    1.602e-03\u001b[m \u001b[31m    2.384e-03\u001b[m\n",
      "   5    -0.3097737022    -109.2635699430 \u001b[31m    3.930e-05\u001b[m \u001b[31m    4.774e-04\u001b[m\n",
      "   6    -0.3097803152    -109.2635765560 \u001b[31m    6.613e-06\u001b[m \u001b[31m    4.070e-05\u001b[m\n",
      "   7    -0.3097817651    -109.2635780059 \u001b[31m    1.450e-06\u001b[m \u001b[31m    5.862e-06\u001b[m\n",
      "   8    -0.3097810385    -109.2635772794 \u001b[31m    7.266e-07\u001b[m \u001b[31m    1.700e-06\u001b[m\n",
      "   9    -0.3097810880    -109.2635773289 \u001b[31m    4.950e-08\u001b[m \u001b[31m    2.441e-07\u001b[m\n",
      "  10    -0.3097811033    -109.2635773442 \u001b[31m    1.534e-08\u001b[m \u001b[31m    7.318e-08\u001b[m\n",
      "  11    -0.3097811028    -109.2635773437 \u001b[32m    5.366e-10\u001b[m \u001b[31m    2.893e-08\u001b[m\n",
      "  12    -0.3097811009    -109.2635773418 \u001b[32m    1.908e-09\u001b[m \u001b[32m    8.905e-09\u001b[m\n",
      "\n",
      "\u001b[32mConverged.\u001b[m\n",
      "\n",
      "E(corr) = -0.3097811009\n",
      "E(tot)  = -109.2635773418\n",
      "\n",
      "Time elapsed: 132 ms\n",
      "\n"
     ]
    },
    {
     "data": {
      "text/plain": [
       "-0.30978110088277533"
      ]
     },
     "execution_count": 5,
     "metadata": {},
     "output_type": "execute_result"
    }
   ],
   "source": [
    "from ebcc import REBCC\n",
    "\n",
    "occupied = mf.mo_occ > 0\n",
    "frozen = np.zeros_like(occupied)\n",
    "active = np.zeros_like(occupied)\n",
    "frozen[:2] = True\n",
    "space = Space(occupied, frozen, active)\n",
    "\n",
    "cc2 = REBCC(mf, space=space, log=log)\n",
    "cc2.kernel()"
   ]
  },
  {
   "cell_type": "markdown",
   "id": "a04e13dd-13e3-4dd0-a613-344ba811e93c",
   "metadata": {},
   "source": [
    "An example of the use of the so-called active space is CCSDt', where the third-order amplitudes span only the active orbitals. We can mix this with frozen orbitals to make use of all three tiers of the space. In this example we freeze the two lowest energy orbitals, and allow the third-order amplitudes to span the two highest energy occpued and two lowest energy virtual MOs."
   ]
  },
  {
   "cell_type": "code",
   "execution_count": 6,
   "id": "ad57a79a-ebc2-4abe-8947-7b5ca6243eb0",
   "metadata": {},
   "outputs": [
    {
     "name": "stdout",
     "output_type": "stream",
     "text": [
      "\n",
      "\u001b[1m\u001b[4mRCCSDt'\u001b[m\n",
      "\u001b[1m*******\u001b[m\n",
      "\n",
      "\u001b[1mOptions\u001b[m:\n",
      " > e_tol:  \u001b[33m1e-08\u001b[m\n",
      " > t_tol:  \u001b[33m1e-08\u001b[m\n",
      " > max_iter:  \u001b[33m200\u001b[m\n",
      " > diis_space:  \u001b[33m9\u001b[m\n",
      " > diis_min_space:  \u001b[33m1\u001b[m\n",
      " > damping:  \u001b[33m0.0\u001b[m\n",
      "\n",
      "\u001b[1mAnsatz\u001b[m: \u001b[35mCCSDt'\u001b[m\n",
      "\n",
      "\u001b[1mSpace\u001b[m: \u001b[35m(7o, 21v) [(2o, 0v) frozen, (2o, 2v) active]\u001b[m\n",
      "\n",
      "Solving for excitation amplitudes.\n",
      "\n",
      "\u001b[1mIter   Energy (corr.)      Energy (tot.)     Δ(Energy)      Δ(Ampl.)\u001b[m\n",
      "   0    -0.3069910359    -109.2607872768\n",
      "   1    -0.2961558041    -109.2499520450 \u001b[31m    1.084e-02\u001b[m \u001b[31m    1.453e-02\u001b[m\n",
      "   2    -0.3083989049    -109.2621951458 \u001b[31m    1.224e-02\u001b[m \u001b[31m    7.635e-03\u001b[m\n",
      "   3    -0.3082114791    -109.2620077200 \u001b[31m    1.874e-04\u001b[m \u001b[31m    2.606e-03\u001b[m\n",
      "   4    -0.3098129983    -109.2636092392 \u001b[31m    1.602e-03\u001b[m \u001b[31m    2.384e-03\u001b[m\n",
      "   5    -0.3097737022    -109.2635699430 \u001b[31m    3.930e-05\u001b[m \u001b[31m    4.774e-04\u001b[m\n",
      "   6    -0.3097803152    -109.2635765560 \u001b[31m    6.613e-06\u001b[m \u001b[31m    4.070e-05\u001b[m\n",
      "   7    -0.3097817651    -109.2635780059 \u001b[31m    1.450e-06\u001b[m \u001b[31m    5.862e-06\u001b[m\n",
      "   8    -0.3097810385    -109.2635772794 \u001b[31m    7.266e-07\u001b[m \u001b[31m    1.700e-06\u001b[m\n",
      "   9    -0.3097810880    -109.2635773289 \u001b[31m    4.950e-08\u001b[m \u001b[31m    2.441e-07\u001b[m\n",
      "  10    -0.3097811033    -109.2635773442 \u001b[31m    1.534e-08\u001b[m \u001b[31m    7.318e-08\u001b[m\n",
      "  11    -0.3097811028    -109.2635773437 \u001b[32m    5.366e-10\u001b[m \u001b[31m    2.893e-08\u001b[m\n",
      "  12    -0.3097811009    -109.2635773418 \u001b[32m    1.908e-09\u001b[m \u001b[32m    8.905e-09\u001b[m\n",
      "\n",
      "\u001b[32mConverged.\u001b[m\n",
      "\n",
      "E(corr) = -0.3097811009\n",
      "E(tot)  = -109.2635773418\n",
      "\n",
      "Time elapsed: 361 ms\n",
      "\n"
     ]
    },
    {
     "data": {
      "text/plain": [
       "-0.309781100882775"
      ]
     },
     "execution_count": 6,
     "metadata": {},
     "output_type": "execute_result"
    }
   ],
   "source": [
    "occupied = mf.mo_occ > 0\n",
    "frozen = np.zeros_like(occupied)\n",
    "active = np.zeros_like(occupied)\n",
    "active[np.sum(mf.mo_occ > 0) - 1] = True\n",
    "active[np.sum(mf.mo_occ > 0) - 2] = True\n",
    "active[np.sum(mf.mo_occ > 0)    ] = True\n",
    "active[np.sum(mf.mo_occ > 0) + 1] = True\n",
    "frozen[:2] = True\n",
    "space = Space(occupied, frozen, active)\n",
    "\n",
    "ccsdt = REBCC(mf, ansatz=\"CCSDt'\", space=space, log=log)\n",
    "ccsdt.kernel()"
   ]
  },
  {
   "cell_type": "markdown",
   "id": "3506206c-db47-494e-983e-b65bf13781a0",
   "metadata": {},
   "source": [
    "Frozen natural orbital (FNO) calculations can be easily performed using the helper function to construct the space."
   ]
  },
  {
   "cell_type": "code",
   "execution_count": 7,
   "id": "5ac1a762-d2f6-421e-9c16-2ffc0e2cfa61",
   "metadata": {},
   "outputs": [
    {
     "name": "stdout",
     "output_type": "stream",
     "text": [
      "\n",
      "\u001b[1m\u001b[4mRCCSD\u001b[m\n",
      "\u001b[1m*****\u001b[m\n",
      "\n",
      "\u001b[1mOptions\u001b[m:\n",
      " > e_tol:  \u001b[33m1e-08\u001b[m\n",
      " > t_tol:  \u001b[33m1e-08\u001b[m\n",
      " > max_iter:  \u001b[33m200\u001b[m\n",
      " > diis_space:  \u001b[33m9\u001b[m\n",
      " > diis_min_space:  \u001b[33m1\u001b[m\n",
      " > damping:  \u001b[33m0.0\u001b[m\n",
      "\n",
      "\u001b[1mAnsatz\u001b[m: \u001b[35mCCSD\u001b[m\n",
      "\n",
      "\u001b[1mSpace\u001b[m: \u001b[35m(7o, 21v) [(0o, 4v) frozen]\u001b[m\n",
      "\n",
      "Solving for excitation amplitudes.\n",
      "\n",
      "\u001b[1mIter   Energy (corr.)      Energy (tot.)     Δ(Energy)      Δ(Ampl.)\u001b[m\n",
      "   0    -0.3025875079    -109.2563837488\n",
      "   1    -0.2914209050    -109.2452171459 \u001b[31m    1.117e-02\u001b[m \u001b[31m    1.382e-02\u001b[m\n",
      "   2    -0.3030681327    -109.2568643736 \u001b[31m    1.165e-02\u001b[m \u001b[31m    6.529e-03\u001b[m\n",
      "   3    -0.3029959077    -109.2567921486 \u001b[31m    7.222e-05\u001b[m \u001b[31m    2.033e-03\u001b[m\n",
      "   4    -0.3044176481    -109.2582138890 \u001b[31m    1.422e-03\u001b[m \u001b[31m    1.723e-03\u001b[m\n",
      "   5    -0.3043968157    -109.2581930566 \u001b[31m    2.083e-05\u001b[m \u001b[31m    3.246e-04\u001b[m\n",
      "   6    -0.3044029136    -109.2581991545 \u001b[31m    6.098e-06\u001b[m \u001b[31m    2.812e-05\u001b[m\n",
      "   7    -0.3044041681    -109.2582004090 \u001b[31m    1.254e-06\u001b[m \u001b[31m    4.942e-06\u001b[m\n",
      "   8    -0.3044036497    -109.2581998906 \u001b[31m    5.183e-07\u001b[m \u001b[31m    1.392e-06\u001b[m\n",
      "   9    -0.3044036658    -109.2581999067 \u001b[31m    1.602e-08\u001b[m \u001b[31m    1.327e-07\u001b[m\n",
      "  10    -0.3044036764    -109.2581999173 \u001b[31m    1.067e-08\u001b[m \u001b[31m    3.053e-08\u001b[m\n",
      "  11    -0.3044036747    -109.2581999156 \u001b[32m    1.711e-09\u001b[m \u001b[31m    1.168e-08\u001b[m\n",
      "  12    -0.3044036749    -109.2581999158 \u001b[32m    2.044e-10\u001b[m \u001b[32m    3.653e-09\u001b[m\n",
      "\n",
      "\u001b[32mConverged.\u001b[m\n",
      "\n",
      "E(corr) = -0.3044036749\n",
      "E(tot)  = -109.2581999158\n",
      "\n",
      "Time elapsed: 141 ms\n",
      "\n"
     ]
    },
    {
     "data": {
      "text/plain": [
       "-0.30440367492534665"
      ]
     },
     "execution_count": 7,
     "metadata": {},
     "output_type": "execute_result"
    }
   ],
   "source": [
    "from ebcc.ham.space import construct_fno_space\n",
    "\n",
    "no_coeff, no_occ, no_space = construct_fno_space(mf, occ_tol=1e-3)\n",
    "\n",
    "fno_ccsd = REBCC(mf, mo_coeff=no_coeff, mo_occ=no_occ, space=no_space, log=log)\n",
    "fno_ccsd.kernel()"
   ]
  },
  {
   "cell_type": "markdown",
   "id": "5e31874b-ea2f-4a63-9048-83d61f62ddb6",
   "metadata": {},
   "source": [
    "External corrections are also supported, and use the designated active space to signify the orbitals in which the external amplitudes are calculated."
   ]
  },
  {
   "cell_type": "code",
   "execution_count": 8,
   "id": "e16550b7-983b-440d-bc1a-3c4f89bcd3c0",
   "metadata": {},
   "outputs": [
    {
     "name": "stdout",
     "output_type": "stream",
     "text": [
      "\n",
      "\u001b[1m\u001b[4mRCCSD\u001b[m\n",
      "\u001b[1m*****\u001b[m\n",
      "\n",
      "\u001b[1mOptions\u001b[m:\n",
      " > e_tol:  \u001b[33m1e-08\u001b[m\n",
      " > t_tol:  \u001b[33m1e-08\u001b[m\n",
      " > max_iter:  \u001b[33m200\u001b[m\n",
      " > diis_space:  \u001b[33m9\u001b[m\n",
      " > diis_min_space:  \u001b[33m1\u001b[m\n",
      " > damping:  \u001b[33m0.0\u001b[m\n",
      "\n",
      "\u001b[1mAnsatz\u001b[m: \u001b[35mCCSD\u001b[m\n",
      "\n",
      "\u001b[1mSpace\u001b[m: \u001b[35m(7o, 21v) [(4o, 4v) active]\u001b[m\n",
      "\n",
      "Applying \u001b[35mexternal corrections\u001b[m.\n",
      " > mixed_terms_strategy:  \u001b[33mfixed\u001b[m\n",
      "\n",
      "Solving for excitation amplitudes.\n",
      "\n",
      "\u001b[1mIter   Energy (corr.)      Energy (tot.)     Δ(Energy)      Δ(Ampl.)\u001b[m\n",
      "   0    -0.3112847700    -109.2650810109\n",
      "   1    -0.3003018073    -109.2540980482 \u001b[31m    1.098e-02\u001b[m \u001b[31m    1.452e-02\u001b[m\n",
      "   2    -0.3125606000    -109.2663568409 \u001b[31m    1.226e-02\u001b[m \u001b[31m    7.573e-03\u001b[m\n",
      "   3    -0.3123392822    -109.2661355231 \u001b[31m    2.213e-04\u001b[m \u001b[31m    2.547e-03\u001b[m\n",
      "   4    -0.3139377696    -109.2677340105 \u001b[31m    1.598e-03\u001b[m \u001b[31m    2.350e-03\u001b[m\n",
      "   5    -0.3139042579    -109.2677004988 \u001b[31m    3.351e-05\u001b[m \u001b[31m    4.794e-04\u001b[m\n",
      "   6    -0.3139103941    -109.2677066350 \u001b[31m    6.136e-06\u001b[m \u001b[31m    3.914e-05\u001b[m\n",
      "   7    -0.3139119247    -109.2677081656 \u001b[31m    1.531e-06\u001b[m \u001b[31m    5.661e-06\u001b[m\n",
      "   8    -0.3139111792    -109.2677074201 \u001b[31m    7.455e-07\u001b[m \u001b[31m    1.678e-06\u001b[m\n",
      "   9    -0.3139112246    -109.2677074655 \u001b[31m    4.540e-08\u001b[m \u001b[31m    2.167e-07\u001b[m\n",
      "  10    -0.3139112385    -109.2677074794 \u001b[31m    1.384e-08\u001b[m \u001b[31m    6.023e-08\u001b[m\n",
      "  11    -0.3139112381    -109.2677074790 \u001b[32m    3.905e-10\u001b[m \u001b[31m    2.377e-08\u001b[m\n",
      "  12    -0.3139112362    -109.2677074771 \u001b[32m    1.888e-09\u001b[m \u001b[32m    7.257e-09\u001b[m\n",
      "\n",
      "\u001b[32mConverged.\u001b[m\n",
      "\n",
      "E(corr) = -0.3139112362\n",
      "E(tot)  = -109.2677074771\n",
      "\n",
      "Time elapsed: 191 ms\n",
      "\n"
     ]
    },
    {
     "data": {
      "text/plain": [
       "-0.31391123618855044"
      ]
     },
     "execution_count": 8,
     "metadata": {},
     "output_type": "execute_result"
    }
   ],
   "source": [
    "from pyscf import fci, ao2mo\n",
    "from ebcc.ext.fci import extract_amplitudes_restricted\n",
    "\n",
    "occupied = mf.mo_occ > 0\n",
    "frozen = np.zeros_like(occupied)\n",
    "active = np.zeros_like(occupied)\n",
    "active[np.sum(mf.mo_occ > 0) - 4 : np.sum(mf.mo_occ > 0) + 4] = True\n",
    "space = Space(occupied, frozen, active)\n",
    "\n",
    "mo = mf.mo_coeff[:, space.active]\n",
    "h1e = np.einsum(\"pq,pi,qj->ij\", mf.get_hcore(), mo, mo)\n",
    "h2e = ao2mo.kernel(mf._eri, mo, compact=False).reshape((mo.shape[-1],) * 4)\n",
    "ci = fci.direct_spin1.FCI()\n",
    "ci.kernel(h1e, h2e, space.nact, space.naocc * 2)\n",
    "amplitudes = extract_amplitudes_restricted(ci, space)\n",
    "\n",
    "eccc = REBCC(mf, ansatz=\"CCSD\", space=space, log=log)\n",
    "eccc.external_correction(amplitudes, mixed_term_strategy=\"update\")"
   ]
  },
  {
   "cell_type": "markdown",
   "id": "fe6e632c-7c8f-4eb3-8fb3-dd8599d4fc13",
   "metadata": {},
   "source": [
    "Alternatively, one can use tailoring with external amplitudes."
   ]
  },
  {
   "cell_type": "code",
   "execution_count": 9,
   "id": "4ad7a096-7495-40e2-b067-ba7d559637f7",
   "metadata": {},
   "outputs": [
    {
     "name": "stdout",
     "output_type": "stream",
     "text": [
      "\n",
      "\u001b[1m\u001b[4mRCCSD\u001b[m\n",
      "\u001b[1m*****\u001b[m\n",
      "\n",
      "\u001b[1mOptions\u001b[m:\n",
      " > e_tol:  \u001b[33m1e-08\u001b[m\n",
      " > t_tol:  \u001b[33m1e-08\u001b[m\n",
      " > max_iter:  \u001b[33m200\u001b[m\n",
      " > diis_space:  \u001b[33m9\u001b[m\n",
      " > diis_min_space:  \u001b[33m1\u001b[m\n",
      " > damping:  \u001b[33m0.0\u001b[m\n",
      "\n",
      "\u001b[1mAnsatz\u001b[m: \u001b[35mCCSD\u001b[m\n",
      "\n",
      "\u001b[1mSpace\u001b[m: \u001b[35m(7o, 21v) [(4o, 4v) active]\u001b[m\n",
      "\n",
      "Applying \u001b[35mtailoring\u001b[m.\n",
      "\n",
      "Solving for excitation amplitudes.\n",
      "\n",
      "\u001b[1mIter   Energy (corr.)      Energy (tot.)     Δ(Energy)      Δ(Ampl.)\u001b[m\n",
      "   0    -0.3112847700    -109.2650810109\n",
      "   1    -0.2670966623    -109.2208929032 \u001b[31m    4.419e-02\u001b[m \u001b[31m    3.630e-01\u001b[m\n",
      "   2    -0.2869167900    -109.2407130309 \u001b[31m    1.982e-02\u001b[m \u001b[31m    1.971e-02\u001b[m\n",
      "   3    -0.2845173180    -109.2383135589 \u001b[31m    2.399e-03\u001b[m \u001b[31m    3.134e-03\u001b[m\n",
      "   4    -0.2856479762    -109.2394442171 \u001b[31m    1.131e-03\u001b[m \u001b[31m    9.649e-04\u001b[m\n",
      "   5    -0.2856167978    -109.2394130387 \u001b[31m    3.118e-05\u001b[m \u001b[31m    2.876e-04\u001b[m\n",
      "   6    -0.2856247272    -109.2394209680 \u001b[31m    7.929e-06\u001b[m \u001b[31m    4.926e-05\u001b[m\n",
      "   7    -0.2856256760    -109.2394219169 \u001b[31m    9.488e-07\u001b[m \u001b[31m    3.685e-06\u001b[m\n",
      "   8    -0.2856258088    -109.2394220497 \u001b[31m    1.328e-07\u001b[m \u001b[31m    9.818e-07\u001b[m\n",
      "   9    -0.2856258924    -109.2394221333 \u001b[31m    8.360e-08\u001b[m \u001b[31m    2.369e-07\u001b[m\n",
      "  10    -0.2856258985    -109.2394221394 \u001b[32m    6.175e-09\u001b[m \u001b[31m    2.915e-08\u001b[m\n",
      "  11    -0.2856259019    -109.2394221428 \u001b[32m    3.396e-09\u001b[m \u001b[31m    1.298e-08\u001b[m\n",
      "  12    -0.2856259026    -109.2394221435 \u001b[32m    6.879e-10\u001b[m \u001b[32m    1.070e-09\u001b[m\n",
      "\n",
      "\u001b[32mConverged.\u001b[m\n",
      "\n",
      "E(corr) = -0.2856259026\n",
      "E(tot)  = -109.2394221435\n",
      "\n",
      "Time elapsed: 207 ms\n",
      "\n"
     ]
    },
    {
     "data": {
      "text/plain": [
       "-0.2856259026309606"
      ]
     },
     "execution_count": 9,
     "metadata": {},
     "output_type": "execute_result"
    }
   ],
   "source": [
    "eccc = REBCC(mf, ansatz=\"CCSD\", space=space, log=log)\n",
    "eccc.tailor(amplitudes)"
   ]
  }
 ],
 "metadata": {
  "kernelspec": {
   "display_name": "Python 3 (ipykernel)",
   "language": "python",
   "name": "python3"
  },
  "language_info": {
   "codemirror_mode": {
    "name": "ipython",
    "version": 3
   },
   "file_extension": ".py",
   "mimetype": "text/x-python",
   "name": "python",
   "nbconvert_exporter": "python",
   "pygments_lexer": "ipython3",
   "version": "3.10.12"
  }
 },
 "nbformat": 4,
 "nbformat_minor": 5
}

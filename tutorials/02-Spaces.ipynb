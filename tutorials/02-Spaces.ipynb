{
 "cells": [
  {
   "cell_type": "markdown",
   "id": "4016ab48-9528-4224-9d3c-ccdd86caac0c",
   "metadata": {},
   "source": [
    "# Spaces"
   ]
  },
  {
   "cell_type": "markdown",
   "id": "9a267ee8-5f33-453a-937a-fff6288c099a",
   "metadata": {},
   "source": [
    "Spaces are handled in `ebcc` according to the following nomenclature:\n",
    "\n",
    "                ─┬─ ┌──────────┐\n",
    "                 │  │  frozen  │\n",
    "                 │  ├──────────┤ ─┬─\n",
    "         virtual │  │  active  │  │\n",
    "                 │  ├──────────┤  │ correlated\n",
    "                 │  │ inactive │  │\n",
    "                ─┼─ ├══════════┤ ─┼─\n",
    "                 │  │ inactive │  │\n",
    "                 │  ├──────────┤  │ correlated\n",
    "        occupied │  │  active  │  │\n",
    "                 │  ├──────────┤ ─┴─\n",
    "                 │  │  frozen  │\n",
    "                ─┴─ └──────────┘\n",
    "\n",
    "A plain coupled cluster calculation will operate within the correlated space. The simplest use of this system is frozen core calculations.\n",
    "\n",
    "First, we again find system and mean-field using PySCF, and initialise an appropriate logger."
   ]
  },
  {
   "cell_type": "code",
   "execution_count": 1,
   "id": "8e146c5a-94e9-4c35-8a49-fe7447640fab",
   "metadata": {},
   "outputs": [],
   "source": [
    "import numpy as np\n",
    "from pyscf import gto, scf\n",
    "\n",
    "mol = gto.M(atom=\"H 0 0 0; F 0 0 1.1\", basis=\"cc-pvdz\", verbose=0)\n",
    "mf = scf.RHF(mol).run()"
   ]
  },
  {
   "cell_type": "code",
   "execution_count": 12,
   "id": "48870af2-ac0b-4214-b51e-b487704f7fb6",
   "metadata": {},
   "outputs": [],
   "source": [
    "import sys\n",
    "from logging import StreamHandler\n",
    "from ebcc.core.logging import Logger\n",
    "\n",
    "log = Logger(\"main\")\n",
    "log.setLevel(0)\n",
    "log.addHandler(StreamHandler(sys.stdout))"
   ]
  },
  {
   "cell_type": "markdown",
   "id": "91329565-a90b-4b24-b491-cf4039d639dc",
   "metadata": {},
   "source": [
    "The `Space` class is constructed by providing boolean arrays indicating whether an orbital at that index is occupied, frozen, or active. In this example we freeze the two lowest energy MOs."
   ]
  },
  {
   "cell_type": "code",
   "execution_count": 4,
   "id": "712628d4-4623-4363-bd45-3b54c5095694",
   "metadata": {},
   "outputs": [
    {
     "name": "stdout",
     "output_type": "stream",
     "text": [
      "Space: (5o, 14v) [(2o, 0v) frozen]\n"
     ]
    }
   ],
   "source": [
    "from ebcc import Space\n",
    "\n",
    "occupied = mf.mo_occ > 0\n",
    "frozen = np.zeros_like(occupied)\n",
    "active = np.zeros_like(occupied)\n",
    "frozen[:2] = True\n",
    "\n",
    "space = Space(occupied, frozen, active)\n",
    "\n",
    "print(\"Space:\", space)"
   ]
  },
  {
   "cell_type": "markdown",
   "id": "65405c14-2608-4e29-927f-e34ac65444c4",
   "metadata": {},
   "source": [
    "The `active` space is used for methods that differentiate between the correlated orbitals in order to treat a subset of orbitals at a higher level of theory. The `frozen` and `active` arrays must be disjoint."
   ]
  },
  {
   "cell_type": "code",
   "execution_count": 11,
   "id": "100701e8-d3e8-4700-960a-625296e3db92",
   "metadata": {},
   "outputs": [
    {
     "name": "stdout",
     "output_type": "stream",
     "text": [
      "Space: (5o, 14v) [(1o, 0v) frozen, (1o, 0v) active]\n",
      "Error: Frozen and active orbitals must be mutually exclusive.\n"
     ]
    }
   ],
   "source": [
    "occupied = mf.mo_occ > 0\n",
    "frozen = np.zeros_like(occupied)\n",
    "active = np.zeros_like(occupied)\n",
    "frozen[:1] = True\n",
    "active[np.sum(mf.mo_occ > 0) - 1] = True\n",
    "space = Space(occupied, frozen, active)\n",
    "print(\"Space:\", space)\n",
    "\n",
    "try:\n",
    "    active = frozen\n",
    "    space = Space(occupied, frozen, active)\n",
    "except ValueError as e:\n",
    "    print(\"Error:\", e)"
   ]
  },
  {
   "cell_type": "markdown",
   "id": "8841fc30-9542-4c6e-a6a4-efedf0031e58",
   "metadata": {},
   "source": [
    "The space can be used in a calculation to perform the frozen-core CC calculation. All methods should be compatible with this procedure, as the code generation is agnostic to the definition of the space."
   ]
  },
  {
   "cell_type": "code",
   "execution_count": 14,
   "id": "bca44519-3dad-4461-9915-fd510bc8b767",
   "metadata": {},
   "outputs": [
    {
     "name": "stdout",
     "output_type": "stream",
     "text": [
      "\u001b[1m        _\n",
      "       | |\n",
      "   ___ | |__    ___   ___\n",
      "  / _ \\| '_ \\  / __| / __|\n",
      " |  __/| |_) || (__ | (__\n",
      "  \\___||_.__/  \\___| \\___|\n",
      "                     \u001b[1m1.5.0\u001b[m\u001b[m\n",
      "numpy:\n",
      " > Version:  1.26.1\n",
      " > Git hash: N/A\n",
      "pyscf:\n",
      " > Version:  2.6.2\n",
      " > Git hash: N/A\n",
      "ebcc:\n",
      " > Version:  1.5.0\n",
      " > Git hash: N/A\n",
      "OMP_NUM_THREADS = 1\n",
      "\n",
      "\n",
      "\u001b[1m\u001b[4mRCCSD\u001b[m\n",
      "\u001b[1m*****\u001b[m\n",
      "\n",
      "\u001b[1mOptions\u001b[m:\n",
      " > e_tol:  \u001b[33m1e-08\u001b[m\n",
      " > t_tol:  \u001b[33m1e-08\u001b[m\n",
      " > max_iter:  \u001b[33m200\u001b[m\n",
      " > diis_space:  \u001b[33m9\u001b[m\n",
      " > diis_min_space:  \u001b[33m1\u001b[m\n",
      " > damping:  \u001b[33m0.0\u001b[m\n",
      "\n",
      "\u001b[1mAnsatz\u001b[m: \u001b[35mCCSD\u001b[m\n",
      "\n",
      "\u001b[1mSpace\u001b[m: \u001b[35m(5o, 14v) [(2o, 0v) frozen]\u001b[m\n",
      "\n",
      "Solving for excitation amplitudes.\n",
      "\n",
      "\u001b[1mIter   Energy (corr.)      Energy (tot.)     Δ(Energy)      Δ(Ampl.)\u001b[m\n",
      "   0    -0.1547617180    -100.1421591584\n",
      "   1    -0.1561846863    -100.1435821267 \u001b[31m    1.423e-03\u001b[m \u001b[31m    8.569e-03\u001b[m\n",
      "   2    -0.1578343707    -100.1452318110 \u001b[31m    1.650e-03\u001b[m \u001b[31m    4.811e-03\u001b[m\n",
      "   3    -0.1583435249    -100.1457409653 \u001b[31m    5.092e-04\u001b[m \u001b[31m    2.697e-03\u001b[m\n",
      "   4    -0.1584821749    -100.1458796152 \u001b[31m    1.386e-04\u001b[m \u001b[31m    8.051e-04\u001b[m\n",
      "   5    -0.1584614174    -100.1458588577 \u001b[31m    2.076e-05\u001b[m \u001b[31m    2.810e-04\u001b[m\n",
      "   6    -0.1584609032    -100.1458583436 \u001b[31m    5.142e-07\u001b[m \u001b[31m    1.771e-05\u001b[m\n",
      "   7    -0.1584611299    -100.1458585703 \u001b[31m    2.267e-07\u001b[m \u001b[31m    2.799e-06\u001b[m\n",
      "   8    -0.1584610258    -100.1458584662 \u001b[31m    1.041e-07\u001b[m \u001b[31m    3.111e-07\u001b[m\n",
      "   9    -0.1584610274    -100.1458584677 \u001b[32m    1.555e-09\u001b[m \u001b[31m    2.979e-08\u001b[m\n",
      "  10    -0.1584610287    -100.1458584691 \u001b[32m    1.363e-09\u001b[m \u001b[32m    4.931e-09\u001b[m\n",
      "\n",
      "\u001b[32mConverged.\u001b[m\n",
      "\n",
      "E(corr) = -0.1584610287\n",
      "E(tot)  = -100.1458584691\n",
      "\n",
      "Time elapsed: 90 ms\n",
      "\n"
     ]
    },
    {
     "data": {
      "text/plain": [
       "-0.15846102874067264"
      ]
     },
     "execution_count": 14,
     "metadata": {},
     "output_type": "execute_result"
    }
   ],
   "source": [
    "from ebcc import REBCC\n",
    "\n",
    "occupied = mf.mo_occ > 0\n",
    "frozen = np.zeros_like(occupied)\n",
    "active = np.zeros_like(occupied)\n",
    "frozen[:2] = True\n",
    "space = Space(occupied, frozen, active)\n",
    "\n",
    "cc2 = REBCC(mf, space=space, log=log)\n",
    "cc2.kernel()"
   ]
  }
 ],
 "metadata": {
  "kernelspec": {
   "display_name": "Python 3 (ipykernel)",
   "language": "python",
   "name": "python3"
  },
  "language_info": {
   "codemirror_mode": {
    "name": "ipython",
    "version": 3
   },
   "file_extension": ".py",
   "mimetype": "text/x-python",
   "name": "python",
   "nbconvert_exporter": "python",
   "pygments_lexer": "ipython3",
   "version": "3.10.12"
  }
 },
 "nbformat": 4,
 "nbformat_minor": 5
}

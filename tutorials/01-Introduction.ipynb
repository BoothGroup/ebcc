{
 "cells": [
  {
   "cell_type": "markdown",
   "id": "d2770e69-8e35-4396-b5b1-a705be2f1165",
   "metadata": {},
   "source": [
    "Introduction\n",
    "------------"
   ]
  },
  {
   "cell_type": "markdown",
   "id": "d38adffb-1bfd-4013-ae68-ce16036a26fc",
   "metadata": {},
   "source": [
    "The `ebcc` package implements various coupled cluster (CC) models for both purely electronic and coupled electron-boson models, with a focus on generality and model extensibility."
   ]
  },
  {
   "cell_type": "markdown",
   "id": "1d5dc365-1e21-48a6-911e-ec0b252439b3",
   "metadata": {},
   "source": [
    "The solvers are built on top of the mean-field classes of [PySCF](https://github.com/pyscf/pyscf.git), and behave in a somewhat similar fashion to the post-mean-field methods of PySCF."
   ]
  },
  {
   "cell_type": "markdown",
   "id": "5aedb3ff-9f44-4742-955d-b9752895db2a",
   "metadata": {},
   "source": [
    "Calculations in `ebcc` proceed by constructing the molecule and running a self-consistent-field calculation using PySCF."
   ]
  },
  {
   "cell_type": "code",
   "execution_count": 1,
   "id": "2e5abbb9-0db3-4535-98b8-deab6258f4ab",
   "metadata": {},
   "outputs": [
    {
     "name": "stdout",
     "output_type": "stream",
     "text": [
      "System: uname_result(system='Linux', node='ollie-desktop', release='6.8.0-49-generic', version='#49~22.04.1-Ubuntu SMP PREEMPT_DYNAMIC Wed Nov  6 17:42:15 UTC 2', machine='x86_64')  Threads 1\n",
      "Python 3.10.12 (main, Nov  6 2024, 20:22:13) [GCC 11.4.0]\n",
      "numpy 1.26.1  scipy 1.14.0  h5py 3.10.0\n",
      "Date: Sat Nov 23 15:25:41 2024\n",
      "PySCF version 2.6.2\n",
      "PySCF path  /home/ollie/.local/lib/python3.10/site-packages/pyscf\n",
      "\n",
      "[CONFIG] conf_file None\n",
      "[INPUT] verbose = 4\n",
      "[INPUT] num. atoms = 2\n",
      "[INPUT] num. electrons = 10\n",
      "[INPUT] charge = 0\n",
      "[INPUT] spin (= nelec alpha-beta = 2S) = 0\n",
      "[INPUT] symmetry False subgroup None\n",
      "[INPUT] Mole.unit = angstrom\n",
      "[INPUT] Symbol           X                Y                Z      unit          X                Y                Z       unit  Magmom\n",
      "[INPUT]  1 H      0.000000000000   0.000000000000   0.000000000000 AA    0.000000000000   0.000000000000   0.000000000000 Bohr   0.0\n",
      "[INPUT]  2 F      0.000000000000   0.000000000000   1.100000000000 AA    0.000000000000   0.000000000000   2.078698737022 Bohr   0.0\n",
      "\n",
      "nuclear repulsion = 4.32963172570909\n",
      "number of shells = 13\n",
      "number of NR pGTOs = 46\n",
      "number of NR cGTOs = 32\n",
      "basis = aug-cc-pvdz\n",
      "ecp = {}\n",
      "CPU time:         0.57\n",
      "\n",
      "\n",
      "******** <class 'pyscf.scf.hf.RHF'> ********\n",
      "method = RHF\n",
      "initial guess = minao\n",
      "damping factor = 0\n",
      "level_shift factor = 0\n",
      "DIIS = <class 'pyscf.scf.diis.CDIIS'>\n",
      "diis_start_cycle = 1\n",
      "diis_space = 8\n",
      "diis_damp = 0\n",
      "SCF conv_tol = 1e-09\n",
      "SCF conv_tol_grad = None\n",
      "SCF max_cycles = 50\n",
      "direct_scf = True\n",
      "direct_scf_tol = 1e-13\n",
      "chkfile to save SCF result = /tmp/tmpxa_ogfg6\n",
      "max_memory 4000 MB (current use 125 MB)\n",
      "Set gradient conv threshold to 3.16228e-05\n",
      "Initial guess from minao.\n",
      "init E= -99.6650091730287\n",
      "  HOMO = -0.635691319417697  LUMO = -0.00107929515554569\n",
      "cycle= 1 E= -99.9642937574776  delta_E= -0.299  |g|= 0.414  |ddm|= 0.901\n",
      "  HOMO = -0.537269251317354  LUMO = 0.0197736339433046\n",
      "cycle= 2 E= -99.9889655855902  delta_E= -0.0247  |g|= 0.28  |ddm|= 0.368\n",
      "  HOMO = -0.63281924672126  LUMO = 0.0230029082526803\n",
      "cycle= 3 E= -100.000767382635  delta_E= -0.0118  |g|= 0.0274  |ddm|= 0.125\n",
      "  HOMO = -0.629813782360507  LUMO = 0.0267963397051837\n",
      "cycle= 4 E= -100.001079521623  delta_E= -0.000312  |g|= 0.0107  |ddm|= 0.0295\n",
      "  HOMO = -0.633049146177258  LUMO = 0.0274847647371931\n",
      "cycle= 5 E= -100.001143840356  delta_E= -6.43e-05  |g|= 0.00228  |ddm|= 0.0166\n",
      "  HOMO = -0.633631817670525  LUMO = 0.0275472742902667\n",
      "cycle= 6 E= -100.001147856446  delta_E= -4.02e-06  |g|= 0.000276  |ddm|= 0.00462\n",
      "  HOMO = -0.633731396540986  LUMO = 0.0275560325900675\n",
      "cycle= 7 E= -100.001147907491  delta_E= -5.1e-08  |g|= 2.23e-05  |ddm|= 0.000442\n",
      "  HOMO = -0.633735000478255  LUMO = 0.0275557788636721\n",
      "cycle= 8 E= -100.001147907659  delta_E= -1.68e-10  |g|= 2.44e-06  |ddm|= 3.13e-05\n",
      "  HOMO = -0.633734907756515  LUMO = 0.0275557899271481\n",
      "Extra cycle  E= -100.001147907662  delta_E= -2.7e-12  |g|= 7.72e-07  |ddm|= 3.56e-06\n",
      "converged SCF energy = -100.001147907662\n"
     ]
    },
    {
     "data": {
      "text/plain": [
       "-100.00114790766195"
      ]
     },
     "execution_count": 1,
     "metadata": {},
     "output_type": "execute_result"
    }
   ],
   "source": [
    "import numpy as np\n",
    "from pyscf import gto, scf\n",
    "\n",
    "mol = gto.Mole()\n",
    "mol.atom = \"H 0 0 0; F 0 0 1.1\"\n",
    "mol.basis = \"aug-cc-pvdz\"\n",
    "mol.verbose = 4\n",
    "mol.build()\n",
    "\n",
    "mf = scf.RHF(mol)\n",
    "mf.kernel()"
   ]
  },
  {
   "cell_type": "markdown",
   "id": "efab553c-a886-43bd-a156-b7f52d27fd7d",
   "metadata": {},
   "source": [
    "`ebcc` uses the default python `Logger` class. There is a default one that logs to `stderr`, but we'll configure one here that better suits the tutorial. Logging can be disabled by using an appropriate custom logger, using `ebcc.core.logging.NullLogger`, or by setting the level of `ebcc.default_log` to be very high."
   ]
  },
  {
   "cell_type": "code",
   "execution_count": 2,
   "id": "6d77dd9b-6102-4d91-99ab-1b0b89aa1f2b",
   "metadata": {},
   "outputs": [],
   "source": [
    "import sys\n",
    "from logging import StreamHandler\n",
    "from ebcc.core.logging import Logger\n",
    "\n",
    "log = Logger(\"main\")\n",
    "log.setLevel(0)\n",
    "log.addHandler(StreamHandler(sys.stdout))"
   ]
  },
  {
   "cell_type": "markdown",
   "id": "90439ad9-9137-423b-8934-d8ce8fee44fc",
   "metadata": {},
   "source": [
    "Many ansatzes under the umbrella of the coupled cluster (CC) method are supported, using generating code with intermediate optimisation and spin integration. The ansatz of choice can be controlled using the `ansatz` keyword when initialising a calculation.\n",
    "\n",
    "Just like PySCF methods, the calculation can be performed using the `kernel` method, which will attempt to converge a ground state."
   ]
  },
  {
   "cell_type": "code",
   "execution_count": 3,
   "id": "29b3ea79-d959-4e13-894a-2338ce2f547e",
   "metadata": {},
   "outputs": [
    {
     "name": "stdout",
     "output_type": "stream",
     "text": [
      "\u001b[1m        _\n",
      "       | |\n",
      "   ___ | |__    ___   ___\n",
      "  / _ \\| '_ \\  / __| / __|\n",
      " |  __/| |_) || (__ | (__\n",
      "  \\___||_.__/  \\___| \\___|\n",
      "                     \u001b[1m1.5.0\u001b[m\u001b[m\n",
      "numpy:\n",
      " > Version:  1.26.1\n",
      " > Git hash: N/A\n",
      "pyscf:\n",
      " > Version:  2.6.2\n",
      " > Git hash: N/A\n",
      "ebcc:\n",
      " > Version:  1.5.0\n",
      " > Git hash: N/A\n",
      "OMP_NUM_THREADS = 1\n",
      "\n",
      "\n",
      "\u001b[1m\u001b[4mRCCSD\u001b[m\n",
      "\u001b[1m*****\u001b[m\n",
      "\n",
      "\u001b[1mOptions\u001b[m:\n",
      " > e_tol:  \u001b[33m1e-08\u001b[m\n",
      " > t_tol:  \u001b[33m1e-08\u001b[m\n",
      " > max_iter:  \u001b[33m200\u001b[m\n",
      " > diis_space:  \u001b[33m9\u001b[m\n",
      " > diis_min_space:  \u001b[33m1\u001b[m\n",
      " > damping:  \u001b[33m0.0\u001b[m\n",
      "\n",
      "\u001b[1mAnsatz\u001b[m: \u001b[35mCCSD\u001b[m\n",
      "\n",
      "\u001b[1mSpace\u001b[m: \u001b[35m(5o, 27v)\u001b[m\n",
      "\n",
      "Solving for excitation amplitudes.\n",
      "\n",
      "\u001b[1mIter   Energy (corr.)      Energy (tot.)     Δ(Energy)      Δ(Ampl.)\u001b[m\n",
      "   0    -0.2348416212    -100.2359895289\n",
      "   1    -0.2307958451    -100.2319437528 \u001b[31m    4.046e-03\u001b[m \u001b[31m    1.889e-02\u001b[m\n",
      "   2    -0.2367214447    -100.2378693524 \u001b[31m    5.926e-03\u001b[m \u001b[31m    5.030e-03\u001b[m\n",
      "   3    -0.2365839704    -100.2377318780 \u001b[31m    1.375e-04\u001b[m \u001b[31m    2.655e-03\u001b[m\n",
      "   4    -0.2374320912    -100.2385799989 \u001b[31m    8.481e-04\u001b[m \u001b[31m    1.458e-03\u001b[m\n",
      "   5    -0.2374369120    -100.2385848196 \u001b[31m    4.821e-06\u001b[m \u001b[31m    1.090e-04\u001b[m\n",
      "   6    -0.2374237335    -100.2385716412 \u001b[31m    1.318e-05\u001b[m \u001b[31m    4.007e-05\u001b[m\n",
      "   7    -0.2374215788    -100.2385694865 \u001b[31m    2.155e-06\u001b[m \u001b[31m    1.629e-05\u001b[m\n",
      "   8    -0.2374224999    -100.2385704075 \u001b[31m    9.211e-07\u001b[m \u001b[31m    7.434e-06\u001b[m\n",
      "   9    -0.2374226710    -100.2385705786 \u001b[31m    1.711e-07\u001b[m \u001b[31m    1.798e-06\u001b[m\n",
      "  10    -0.2374225479    -100.2385704555 \u001b[31m    1.231e-07\u001b[m \u001b[31m    4.507e-07\u001b[m\n",
      "  11    -0.2374225536    -100.2385704613 \u001b[32m    5.749e-09\u001b[m \u001b[31m    1.301e-07\u001b[m\n",
      "  12    -0.2374225560    -100.2385704637 \u001b[32m    2.400e-09\u001b[m \u001b[31m    2.683e-08\u001b[m\n",
      "  13    -0.2374225572    -100.2385704648 \u001b[32m    1.178e-09\u001b[m \u001b[32m    9.110e-09\u001b[m\n",
      "\n",
      "\u001b[32mConverged.\u001b[m\n",
      "\n",
      "E(corr) = -0.2374225572\n",
      "E(tot)  = -100.2385704648\n",
      "\n",
      "Time elapsed: 214 ms\n",
      "\n",
      "Correlation energy: -0.2374225572\n",
      "Total energy: -100.2385704648\n"
     ]
    }
   ],
   "source": [
    "from ebcc import EBCC\n",
    "\n",
    "ccsd = EBCC(mf, ansatz=\"CCSD\", log=log)\n",
    "ccsd.kernel()\n",
    "\n",
    "print(f\"Correlation energy: {ccsd.e_corr:.10f}\")\n",
    "print(f\"Total energy: {ccsd.e_tot:.10f}\")"
   ]
  },
  {
   "cell_type": "markdown",
   "id": "d871294e-bc66-4feb-a01e-929a12fcccd0",
   "metadata": {},
   "source": [
    "A similar solver is available for the $\\Lambda$ amplitudes, where the chosen ansatz supports them. Users should note that if one wishes to calculate the density matrices, before solving the $\\Lambda$ equations, the approximation $\\Lambda = T^\\dagger$ will be used, leading to approximate density matrices."
   ]
  },
  {
   "cell_type": "code",
   "execution_count": 4,
   "id": "db34d66e-1343-428e-86ac-306521e2b33e",
   "metadata": {},
   "outputs": [
    {
     "name": "stdout",
     "output_type": "stream",
     "text": [
      "Solving for de-excitation (lambda) amplitudes.\n",
      "\n",
      "\u001b[1mIter      Δ(Ampl.)\u001b[m\n",
      "   1 \u001b[31m    8.501e-03\u001b[m\n",
      "   2 \u001b[31m    1.246e-03\u001b[m\n",
      "   3 \u001b[31m    9.129e-04\u001b[m\n",
      "   4 \u001b[31m    5.651e-04\u001b[m\n",
      "   5 \u001b[31m    3.060e-05\u001b[m\n",
      "   6 \u001b[31m    1.289e-05\u001b[m\n",
      "   7 \u001b[31m    4.416e-06\u001b[m\n",
      "   8 \u001b[31m    1.261e-06\u001b[m\n",
      "   9 \u001b[31m    3.142e-07\u001b[m\n",
      "  10 \u001b[31m    1.614e-07\u001b[m\n",
      "  11 \u001b[31m    7.844e-08\u001b[m\n",
      "  12 \u001b[31m    1.510e-08\u001b[m\n",
      "  13 \u001b[32m    2.888e-09\u001b[m\n",
      "\n",
      "\u001b[32mConverged.\u001b[m\n",
      "\n",
      "Time elapsed: 287 ms\n",
      "\n",
      "\n",
      "Error in approximate 1RDM: 0.00842\n"
     ]
    }
   ],
   "source": [
    "rdm1_approx = ccsd.make_rdm1_f()\n",
    "\n",
    "ccsd.solve_lambda()\n",
    "\n",
    "rdm1 = ccsd.make_rdm1_f()\n",
    "\n",
    "print(f\"Error in approximate 1RDM: {np.max(np.abs(rdm1_approx - rdm1)):.3g}\")"
   ]
  },
  {
   "cell_type": "markdown",
   "id": "75fac206-4a95-423e-b1da-b2d4eed6b57e",
   "metadata": {},
   "source": [
    "After converging the ground state, some ansatzes offer equation-of-motion (EOM) operations, and `ebcc` has a solver to converge them via the Davidson method. Note that the default logging behaviour is that the EOM solver inherits the logger passed to the ground state."
   ]
  },
  {
   "cell_type": "code",
   "execution_count": 5,
   "id": "b2788176-8f4d-4ae7-8242-2f0fa3ee0321",
   "metadata": {},
   "outputs": [
    {
     "name": "stdout",
     "output_type": "stream",
     "text": [
      "\n",
      "\u001b[1m\u001b[4mIP-EOM-RCCSD\u001b[m\n",
      "\u001b[1m************\u001b[m\n",
      "\n",
      "\u001b[1mOptions\u001b[m:\n",
      " > nroots:  \u001b[33m5\u001b[m\n",
      " > e_tol:  \u001b[33m1e-06\u001b[m\n",
      " > max_iter:  \u001b[33m100\u001b[m\n",
      " > max_space:  \u001b[33m12\u001b[m\n",
      "\n",
      "Solving for IP excitations using the Davidson solver.\n",
      "\n",
      "\u001b[32mConverged.\u001b[m\n",
      "\n",
      "\u001b[1mRoot           Energy        Weight    Conv.\u001b[m\n",
      "   0     0.5573504810       0.95419 \u001b[32m    True\u001b[m\n",
      "   1     0.5573553537       0.95419 \u001b[32m    True\u001b[m\n",
      "   2     0.6780342604       0.96114 \u001b[32m    True\u001b[m\n",
      "   3     1.3574272581    0.00053347 \u001b[32m    True\u001b[m\n",
      "   4     1.3695781840        0.6841 \u001b[32m    True\u001b[m\n",
      "\n",
      "Time elapsed: 176 ms\n",
      "\n",
      "First ionisation potential: -0.55735048\n",
      "Singles weight: 0.9542\n"
     ]
    }
   ],
   "source": [
    "eom = ccsd.ip_eom(nroots=5)\n",
    "eom.kernel()\n",
    "\n",
    "print(f\"First ionisation potential: {-eom.e[0]:.8f}\")\n",
    "print(f\"Singles weight: {np.linalg.norm(eom.v[:, 0][:ccsd.nocc])**2:.4g}\")"
   ]
  },
  {
   "cell_type": "markdown",
   "id": "7dc63f4e-d40c-470e-8a25-e9523d01629c",
   "metadata": {},
   "source": [
    "Brueckner orbital self-consistency is also generally available to methods. The `brueckner` method automatically calls the `kernel` itself this time, updating in-place the coefficients and amplitudes. For finer control the solvers can be used from `ebcc.opt`."
   ]
  },
  {
   "cell_type": "code",
   "execution_count": 6,
   "id": "8b53877b-97af-46fe-915d-e2efbfac81b1",
   "metadata": {},
   "outputs": [
    {
     "name": "stdout",
     "output_type": "stream",
     "text": [
      "\n",
      "\u001b[1m\u001b[4mRBCCSD\u001b[m\n",
      "\u001b[1mOptions\u001b[m:\n",
      " > e_tol:  \u001b[33m1e-08\u001b[m\n",
      " > t_tol:  \u001b[33m1e-08\u001b[m\n",
      " > max_iter:  \u001b[33m20\u001b[m\n",
      " > diis_space:  \u001b[33m9\u001b[m\n",
      " > diis_min_space:  \u001b[33m1\u001b[m\n",
      " > damping:  \u001b[33m0.0\u001b[m\n",
      "\n",
      "Solving for Brueckner orbitals.\n",
      "\n",
      "\u001b[1mIter   Energy (corr.)      Energy (tot.)    Conv.     Δ(Energy)          |T1|\u001b[m\n",
      "   0    -0.2374225572    -100.2385704648 \u001b[32m    True\u001b[m\n",
      "   1    -0.2405424771    -100.2377076113 \u001b[32m    True\u001b[m \u001b[31m    3.120e-03\u001b[m \u001b[31m    7.248e-03\u001b[m\n",
      "   2    -0.2396041405    -100.2378515978 \u001b[32m    True\u001b[m \u001b[31m    1.440e-04\u001b[m \u001b[31m    1.930e-03\u001b[m\n",
      "   3    -0.2397546740    -100.2378203372 \u001b[32m    True\u001b[m \u001b[31m    3.126e-05\u001b[m \u001b[31m    1.479e-05\u001b[m\n",
      "   4    -0.2397542965    -100.2378205140 \u001b[32m    True\u001b[m \u001b[31m    1.767e-07\u001b[m \u001b[31m    4.722e-07\u001b[m\n",
      "   5    -0.2397542967    -100.2378205119 \u001b[32m    True\u001b[m \u001b[32m    2.028e-09\u001b[m \u001b[31m    2.912e-08\u001b[m\n",
      "   6    -0.2397542975    -100.2378205119 \u001b[32m    True\u001b[m \u001b[32m    4.846e-12\u001b[m \u001b[32m    6.940e-09\u001b[m\n",
      "\n",
      "\u001b[32mConverged.\u001b[m\n",
      "\n",
      "E(corr) = -0.2397542975\n",
      "E(tot)  = -100.2378205119\n",
      "\n",
      "Time elapsed: 818 ms\n",
      "\n",
      "T1 norm: 6.94e-09\n"
     ]
    }
   ],
   "source": [
    "ccsd.brueckner()\n",
    "\n",
    "print(f\"T1 norm: {np.linalg.norm(ccsd.t1):.3g}\")"
   ]
  },
  {
   "cell_type": "markdown",
   "id": "4d476a97-196c-44bf-910f-ecbd5e3aca44",
   "metadata": {},
   "source": [
    "Other canonical and approximate ansatzes are available. To list the supported ansatzes, there is a helper method `available_models`. For more details on which methods are available for each ansatz, the `FEATURES.md` file contains a summary."
   ]
  },
  {
   "cell_type": "code",
   "execution_count": 9,
   "id": "dd86aaae-82e4-47e0-8da9-2a6ec2349e8b",
   "metadata": {},
   "outputs": [
    {
     "name": "stderr",
     "output_type": "stream",
     "text": [
      "RHF:\n",
      "  RCC2, RCC3, RCCD, RCCSD, RCCSD(T), RCCSDT, RCCSD_SD_1_1, RCCSD_SD_1_2, RCCSD_S_1_1, RCCSDt, RCCSDt, RDCD, RDCSD, RDFCC2, RDFCCD, RDFCCSD, RDFDCD, RDFDCSD, RDFQCISD, RMP2, RMP3, RQCISD\n",
      "UHF:\n",
      "  UCC2, UCC3, UCCD, UCCSD, UCCSD(T), UCCSDT, UCCSD_SD_1_1, UCCSD_SD_1_2, UCCSD_S_1_1, UCCSDt, UCCSDt, UDCD, UDCSD, UDFCC2, UDFCCD, UDFCCSD, UDFDCD, UDFDCSD, UDFQCISD, UMP2, UMP3, UQCISD\n",
      "GHF:\n",
      "  GCC2, GCC3, GCCD, GCCSD, GCCSD(T), GCCSDT, GCCSDTQ, GCCSD_SD_1_1, GCCSD_SD_1_2, GCCSD_S_1_1, GCCSDt, GCCSDt, GMP2, GMP3, GQCISD\n"
     ]
    }
   ],
   "source": [
    "from ebcc import available_models\n",
    "\n",
    "_ = available_models()"
   ]
  },
  {
   "cell_type": "markdown",
   "id": "ef1616af-8a2c-468d-8c60-275f1ed6cdbb",
   "metadata": {},
   "source": [
    "There is some support for methods requiring a perturbative correction to the ground state energy, which is automatically calculated with the ground state `kernel`."
   ]
  },
  {
   "cell_type": "code",
   "execution_count": 11,
   "id": "92d01dd2-19c8-41f3-910b-5f2e40d6d9b4",
   "metadata": {},
   "outputs": [
    {
     "name": "stdout",
     "output_type": "stream",
     "text": [
      "\n",
      "\u001b[1m\u001b[4mRCCSD(T)\u001b[m\n",
      "\u001b[1m********\u001b[m\n",
      "\n",
      "\u001b[1mOptions\u001b[m:\n",
      " > e_tol:  \u001b[33m1e-08\u001b[m\n",
      " > t_tol:  \u001b[33m1e-08\u001b[m\n",
      " > max_iter:  \u001b[33m200\u001b[m\n",
      " > diis_space:  \u001b[33m9\u001b[m\n",
      " > diis_min_space:  \u001b[33m1\u001b[m\n",
      " > damping:  \u001b[33m0.0\u001b[m\n",
      "\n",
      "\u001b[1mAnsatz\u001b[m: \u001b[35mCCSD(T)\u001b[m\n",
      "\n",
      "\u001b[1mSpace\u001b[m: \u001b[35m(5o, 27v)\u001b[m\n",
      "\n"
     ]
    }
   ],
   "source": [
    "from ebcc import REBCC\n",
    "\n",
    "ccsd_t = REBCC(mf, ansatz=\"CCSD(T)\", log=log)"
   ]
  }
 ],
 "metadata": {
  "kernelspec": {
   "display_name": "Python 3 (ipykernel)",
   "language": "python",
   "name": "python3"
  },
  "language_info": {
   "codemirror_mode": {
    "name": "ipython",
    "version": 3
   },
   "file_extension": ".py",
   "mimetype": "text/x-python",
   "name": "python",
   "nbconvert_exporter": "python",
   "pygments_lexer": "ipython3",
   "version": "3.10.12"
  }
 },
 "nbformat": 4,
 "nbformat_minor": 5
}

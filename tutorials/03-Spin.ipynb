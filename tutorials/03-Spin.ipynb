{
 "cells": [
  {
   "cell_type": "markdown",
   "id": "9ce6ee77-bfe0-424e-ad1a-2b002839ff90",
   "metadata": {},
   "source": [
    "# Spin"
   ]
  },
  {
   "cell_type": "markdown",
   "id": "95404693-30bb-45f3-96cf-e19301fe8900",
   "metadata": {},
   "source": [
    "`ebcc` offers solvers for the restricted, unrestricted, and generalised versions of coupled cluster. Most ansatzes are covered for all three cases, with some exceptions. Rather than ambiguously packing spin components into a `tuple` or `list`, `ebcc` has a `Namespace` class which gives them an explicit label."
   ]
  },
  {
   "cell_type": "code",
   "execution_count": 1,
   "id": "c4a7c426-a2ea-49dd-ba60-2a83243d0fa4",
   "metadata": {},
   "outputs": [],
   "source": [
    "import numpy as np\n",
    "from pyscf import gto, scf\n",
    "\n",
    "mol = gto.M(atom=\"O 0 0 0; O 0 0 1\", basis=\"cc-pvdz\", spin=2, verbose=0)\n",
    "mf = scf.UHF(mol).run()"
   ]
  },
  {
   "cell_type": "code",
   "execution_count": 2,
   "id": "9f7e797a-5838-4ebd-9bce-442e26a9475c",
   "metadata": {},
   "outputs": [],
   "source": [
    "import sys\n",
    "from logging import StreamHandler\n",
    "from ebcc.core.logging import Logger\n",
    "\n",
    "log = Logger(\"main\")\n",
    "log.setLevel(0)\n",
    "log.addHandler(StreamHandler(sys.stdout))"
   ]
  },
  {
   "cell_type": "code",
   "execution_count": 3,
   "id": "57c5eac4-b140-4070-9560-bd7a61c28988",
   "metadata": {},
   "outputs": [
    {
     "name": "stdout",
     "output_type": "stream",
     "text": [
      "\u001b[1m        _\n",
      "       | |\n",
      "   ___ | |__    ___   ___\n",
      "  / _ \\| '_ \\  / __| / __|\n",
      " |  __/| |_) || (__ | (__\n",
      "  \\___||_.__/  \\___| \\___|\n",
      "                     \u001b[1m1.5.0\u001b[m\u001b[m\n",
      "numpy:\n",
      " > Version:  1.26.1\n",
      " > Git hash: N/A\n",
      "pyscf:\n",
      " > Version:  2.6.2\n",
      " > Git hash: N/A\n",
      "ebcc:\n",
      " > Version:  1.5.0\n",
      " > Git hash: N/A\n",
      "OMP_NUM_THREADS = 1\n",
      "\n",
      "\n",
      "\u001b[1m\u001b[4mUQCISD\u001b[m\n",
      "\u001b[1m******\u001b[m\n",
      "\n",
      "\u001b[1mOptions\u001b[m:\n",
      " > e_tol:  \u001b[33m1e-08\u001b[m\n",
      " > t_tol:  \u001b[33m1e-08\u001b[m\n",
      " > max_iter:  \u001b[33m200\u001b[m\n",
      " > diis_space:  \u001b[33m9\u001b[m\n",
      " > diis_min_space:  \u001b[33m1\u001b[m\n",
      " > damping:  \u001b[33m0.0\u001b[m\n",
      "\n",
      "\u001b[1mAnsatz\u001b[m: \u001b[35mQCISD\u001b[m\n",
      "\n",
      "\u001b[1mSpace\u001b[m: \u001b[35m((9o, 19v), (7o, 21v))\u001b[m\n",
      "\n",
      "Solving for excitation amplitudes.\n",
      "\n",
      "\u001b[1mIter   Energy (corr.)      Energy (tot.)     Δ(Energy)      Δ(Ampl.)\u001b[m\n",
      "   0    -0.3070521941    -149.8580936225\n",
      "   1    -0.3055036550    -149.8565450833 \u001b[31m    1.549e-03\u001b[m \u001b[31m    1.256e-02\u001b[m\n",
      "   2    -0.3233793745    -149.8744208029 \u001b[31m    1.788e-02\u001b[m \u001b[31m    3.772e-03\u001b[m\n",
      "   3    -0.3168286951    -149.8678701235 \u001b[31m    6.551e-03\u001b[m \u001b[31m    1.942e-03\u001b[m\n",
      "   4    -0.3186699020    -149.8697113303 \u001b[31m    1.841e-03\u001b[m \u001b[31m    1.253e-03\u001b[m\n",
      "   5    -0.3185526911    -149.8695941195 \u001b[31m    1.172e-04\u001b[m \u001b[31m    1.944e-04\u001b[m\n",
      "   6    -0.3185465027    -149.8695879310 \u001b[31m    6.188e-06\u001b[m \u001b[31m    1.116e-04\u001b[m\n",
      "   7    -0.3185508522    -149.8695922806 \u001b[31m    4.350e-06\u001b[m \u001b[31m    1.669e-05\u001b[m\n",
      "   8    -0.3185493763    -149.8695908047 \u001b[31m    1.476e-06\u001b[m \u001b[31m    8.566e-06\u001b[m\n",
      "   9    -0.3185512314    -149.8695926598 \u001b[31m    1.855e-06\u001b[m \u001b[31m    2.864e-06\u001b[m\n",
      "  10    -0.3185511800    -149.8695926084 \u001b[31m    5.146e-08\u001b[m \u001b[31m    5.089e-07\u001b[m\n",
      "  11    -0.3185511068    -149.8695925352 \u001b[31m    7.314e-08\u001b[m \u001b[31m    1.871e-07\u001b[m\n",
      "  12    -0.3185511383    -149.8695925667 \u001b[31m    3.143e-08\u001b[m \u001b[31m    7.053e-08\u001b[m\n",
      "  13    -0.3185511102    -149.8695925386 \u001b[31m    2.809e-08\u001b[m \u001b[31m    2.668e-08\u001b[m\n",
      "  14    -0.3185511206    -149.8695925490 \u001b[31m    1.038e-08\u001b[m \u001b[32m    6.024e-09\u001b[m\n",
      "  15    -0.3185511176    -149.8695925459 \u001b[32m    3.005e-09\u001b[m \u001b[32m    2.238e-09\u001b[m\n",
      "\n",
      "\u001b[32mConverged.\u001b[m\n",
      "\n",
      "E(corr) = -0.3185511176\n",
      "E(tot)  = -149.8695925459\n",
      "\n",
      "Time elapsed: 506 ms\n",
      "\n",
      "T1 keys: dict_keys(['bb', 'aa'])\n",
      "T2 keys: dict_keys(['aaaa', 'abab', 'bbbb'])\n"
     ]
    }
   ],
   "source": [
    "from ebcc import UEBCC\n",
    "\n",
    "qcisd = UEBCC(mf, ansatz=\"QCISD\", log=log)\n",
    "qcisd.kernel()\n",
    "\n",
    "print(\"T1 keys:\", qcisd.t1.keys())\n",
    "print(\"T2 keys:\", qcisd.t2.keys())"
   ]
  },
  {
   "cell_type": "markdown",
   "id": "a341c32b-ecc6-4d5e-b5b5-070d98b24947",
   "metadata": {},
   "source": [
    "Classes with higher spin symmetry can be converted to those of lower symmetry with built-in conversion routines. In cases where the broken symmetry permits a different ground state, the `kernel` can be called again to proceed with the calculation."
   ]
  },
  {
   "cell_type": "code",
   "execution_count": 4,
   "id": "5f9cf201-bebb-42f6-8fb7-732e28ef3952",
   "metadata": {},
   "outputs": [
    {
     "name": "stdout",
     "output_type": "stream",
     "text": [
      "\n",
      "\u001b[1m\u001b[4mGQCISD\u001b[m\n",
      "\u001b[1m******\u001b[m\n",
      "\n",
      "\u001b[1mOptions\u001b[m:\n",
      " > e_tol:  \u001b[33m1e-08\u001b[m\n",
      " > t_tol:  \u001b[33m1e-08\u001b[m\n",
      " > max_iter:  \u001b[33m200\u001b[m\n",
      " > diis_space:  \u001b[33m9\u001b[m\n",
      " > diis_min_space:  \u001b[33m1\u001b[m\n",
      " > damping:  \u001b[33m0.0\u001b[m\n",
      "\n",
      "\u001b[1mAnsatz\u001b[m: \u001b[35mQCISD\u001b[m\n",
      "\n",
      "\u001b[1mSpace\u001b[m: \u001b[35m(16o, 40v)\u001b[m\n",
      "\n",
      "Solving for excitation amplitudes.\n",
      "\n",
      "\u001b[1mIter   Energy (corr.)      Energy (tot.)     Δ(Energy)      Δ(Ampl.)\u001b[m\n",
      "   0    -0.3185511176    -149.8695925459\n",
      "   1    -0.3185511188    -149.8695925472 \u001b[32m    1.226e-09\u001b[m \u001b[32m    9.540e-10\u001b[m\n",
      "\n",
      "\u001b[32mConverged.\u001b[m\n",
      "\n",
      "E(corr) = -0.3185511188\n",
      "E(tot)  = -149.8695925472\n",
      "\n",
      "Time elapsed: 300 ms\n",
      "\n"
     ]
    },
    {
     "data": {
      "text/plain": [
       "-0.31855111878172215"
      ]
     },
     "execution_count": 4,
     "metadata": {},
     "output_type": "execute_result"
    }
   ],
   "source": [
    "from ebcc import GEBCC\n",
    "\n",
    "gqcisd = GEBCC.from_uebcc(qcisd)\n",
    "gqcisd.kernel()"
   ]
  },
  {
   "cell_type": "markdown",
   "id": "aa0a1420-9683-4877-b29a-6f4764f019d2",
   "metadata": {},
   "source": [
    "As seen in the previous tutorial, we can define spaces to control frozen and active orbitals. In unrestricted calculations, the spaces can be provided as a tuple to differentiate between the alpha and beta spin channels."
   ]
  },
  {
   "cell_type": "code",
   "execution_count": 8,
   "id": "ca3c9b71-1b3d-4dab-9b2d-fe47dcd2aa74",
   "metadata": {},
   "outputs": [
    {
     "name": "stdout",
     "output_type": "stream",
     "text": [
      "((9o, 19v) [(2o, 0v) frozen], (7o, 21v))\n",
      "\n",
      "\u001b[1m\u001b[4mUCCSD\u001b[m\n",
      "\u001b[1m*****\u001b[m\n",
      "\n",
      "\u001b[1mOptions\u001b[m:\n",
      " > e_tol:  \u001b[33m1e-08\u001b[m\n",
      " > t_tol:  \u001b[33m1e-08\u001b[m\n",
      " > max_iter:  \u001b[33m200\u001b[m\n",
      " > diis_space:  \u001b[33m9\u001b[m\n",
      " > diis_min_space:  \u001b[33m1\u001b[m\n",
      " > damping:  \u001b[33m0.0\u001b[m\n",
      "\n",
      "\u001b[1mAnsatz\u001b[m: \u001b[35mCCSD\u001b[m\n",
      "\n",
      "\u001b[1mSpace\u001b[m: \u001b[35m((9o, 19v) [(2o, 0v) frozen], (7o, 21v))\u001b[m\n",
      "\n",
      "Solving for excitation amplitudes.\n",
      "\n",
      "\u001b[1mIter   Energy (corr.)      Energy (tot.)     Δ(Energy)      Δ(Ampl.)\u001b[m\n",
      "   0    -0.3046180187    -149.8556594471\n",
      "   1    -0.3034470358    -149.8544884642 \u001b[31m    1.171e-03\u001b[m \u001b[31m    1.254e-02\u001b[m\n",
      "   2    -0.3207159600    -149.8717573884 \u001b[31m    1.727e-02\u001b[m \u001b[31m    3.511e-03\u001b[m\n",
      "   3    -0.3143837333    -149.8654251616 \u001b[31m    6.332e-03\u001b[m \u001b[31m    1.876e-03\u001b[m\n",
      "   4    -0.3161360263    -149.8671774547 \u001b[31m    1.752e-03\u001b[m \u001b[31m    1.210e-03\u001b[m\n",
      "   5    -0.3160189634    -149.8670603918 \u001b[31m    1.171e-04\u001b[m \u001b[31m    1.906e-04\u001b[m\n",
      "   6    -0.3160126178    -149.8670540461 \u001b[31m    6.346e-06\u001b[m \u001b[31m    1.028e-04\u001b[m\n",
      "   7    -0.3160169280    -149.8670583564 \u001b[31m    4.310e-06\u001b[m \u001b[31m    1.689e-05\u001b[m\n",
      "   8    -0.3160153839    -149.8670568123 \u001b[31m    1.544e-06\u001b[m \u001b[31m    8.321e-06\u001b[m\n",
      "   9    -0.3160174294    -149.8670588578 \u001b[31m    2.046e-06\u001b[m \u001b[31m    2.553e-06\u001b[m\n",
      "  10    -0.3160174326    -149.8670588610 \u001b[32m    3.160e-09\u001b[m \u001b[31m    4.497e-07\u001b[m\n",
      "  11    -0.3160173495    -149.8670587779 \u001b[31m    8.309e-08\u001b[m \u001b[31m    1.828e-07\u001b[m\n",
      "  12    -0.3160173773    -149.8670588057 \u001b[31m    2.777e-08\u001b[m \u001b[31m    6.761e-08\u001b[m\n",
      "  13    -0.3160173532    -149.8670587816 \u001b[31m    2.408e-08\u001b[m \u001b[31m    2.382e-08\u001b[m\n",
      "  14    -0.3160173618    -149.8670587902 \u001b[32m    8.599e-09\u001b[m \u001b[32m    6.154e-09\u001b[m\n",
      "\n",
      "\u001b[32mConverged.\u001b[m\n",
      "\n",
      "E(corr) = -0.3160173618\n",
      "E(tot)  = -149.8670587902\n",
      "\n",
      "Time elapsed: 751 ms\n",
      "\n",
      "Solving for de-excitation (lambda) amplitudes.\n",
      "\n",
      "\u001b[1mIter      Δ(Ampl.)\u001b[m\n",
      "   1 \u001b[31m    2.080e-03\u001b[m\n",
      "   2 \u001b[31m    8.902e-04\u001b[m\n",
      "   3 \u001b[31m    3.095e-04\u001b[m\n",
      "   4 \u001b[31m    9.494e-05\u001b[m\n",
      "   5 \u001b[31m    1.968e-05\u001b[m\n",
      "   6 \u001b[31m    6.909e-06\u001b[m\n",
      "   7 \u001b[31m    2.296e-06\u001b[m\n",
      "   8 \u001b[31m    6.928e-07\u001b[m\n",
      "   9 \u001b[31m    3.257e-07\u001b[m\n",
      "  10 \u001b[31m    6.887e-08\u001b[m\n",
      "  11 \u001b[31m    2.533e-08\u001b[m\n",
      "  12 \u001b[32m    6.840e-09\u001b[m\n",
      "\n",
      "\u001b[32mConverged.\u001b[m\n",
      "\n",
      "Time elapsed: 719 ms\n",
      "\n",
      "\n"
     ]
    }
   ],
   "source": [
    "from ebcc import Space\n",
    "\n",
    "occupied = mf.mo_occ[0] > 0\n",
    "frozen = np.zeros_like(occupied)\n",
    "active = np.zeros_like(occupied)\n",
    "frozen[:2] = True\n",
    "space_a = Space(occupied, frozen, active)\n",
    "\n",
    "occupied = mf.mo_occ[1] > 0\n",
    "frozen = np.zeros_like(occupied)\n",
    "active = np.zeros_like(occupied)\n",
    "space_b = Space(occupied, frozen, active)\n",
    "\n",
    "space = (space_a, space_b)\n",
    "print(space)\n",
    "\n",
    "uccsd = UEBCC(mf, space=space, log=log)\n",
    "uccsd.kernel()\n",
    "uccsd.solve_lambda()"
   ]
  }
 ],
 "metadata": {
  "kernelspec": {
   "display_name": "Python 3 (ipykernel)",
   "language": "python",
   "name": "python3"
  },
  "language_info": {
   "codemirror_mode": {
    "name": "ipython",
    "version": 3
   },
   "file_extension": ".py",
   "mimetype": "text/x-python",
   "name": "python",
   "nbconvert_exporter": "python",
   "pygments_lexer": "ipython3",
   "version": "3.10.12"
  }
 },
 "nbformat": 4,
 "nbformat_minor": 5
}
